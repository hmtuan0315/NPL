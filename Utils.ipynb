{
 "cells": [
  {
   "cell_type": "code",
   "execution_count": 41,
   "id": "7f86170c",
   "metadata": {
    "ExecuteTime": {
     "end_time": "2021-05-27T07:58:40.506214Z",
     "start_time": "2021-05-27T07:58:40.479237Z"
    }
   },
   "outputs": [],
   "source": [
    "%config IPCompleter.use_jedi = False"
   ]
  },
  {
   "cell_type": "code",
   "execution_count": 42,
   "id": "a7acfacf",
   "metadata": {
    "ExecuteTime": {
     "end_time": "2021-05-27T07:58:40.915250Z",
     "start_time": "2021-05-27T07:58:40.894242Z"
    }
   },
   "outputs": [],
   "source": [
    "import pandas as pd\n",
    "from bs4 import BeautifulSoup\n",
    "import unidecode\n",
    "import nltk\n",
    "from nltk import pos_tag\n",
    "from nltk.corpus import stopwords\n",
    "from nltk.stem import WordNetLemmatizer\n",
    "import re\n",
    "%run contractions.ipynb"
   ]
  },
  {
   "cell_type": "code",
   "execution_count": 3,
   "id": "90032f88",
   "metadata": {
    "ExecuteTime": {
     "end_time": "2021-05-27T07:02:36.510534Z",
     "start_time": "2021-05-27T07:02:36.497542Z"
    }
   },
   "outputs": [],
   "source": [
    "def remove_html_tag(text):\n",
    "    text = BeautifulSoup(text, 'lxml')\n",
    "    return text.get_text()"
   ]
  },
  {
   "cell_type": "code",
   "execution_count": 4,
   "id": "3703f86c",
   "metadata": {
    "ExecuteTime": {
     "end_time": "2021-05-27T07:02:36.525565Z",
     "start_time": "2021-05-27T07:02:36.513536Z"
    }
   },
   "outputs": [],
   "source": [
    "def removing_new_line(text):\n",
    "    text = re.sub('\\s+', ' ', text)\n",
    "    return text"
   ]
  },
  {
   "cell_type": "code",
   "execution_count": 5,
   "id": "d6bbfaab",
   "metadata": {
    "ExecuteTime": {
     "end_time": "2021-05-27T07:02:36.541535Z",
     "start_time": "2021-05-27T07:02:36.528535Z"
    }
   },
   "outputs": [],
   "source": [
    "def remove_accent_char(text):\n",
    "    res = unidecode.unidecode(text)\n",
    "    return res\n"
   ]
  },
  {
   "cell_type": "code",
   "execution_count": 6,
   "id": "97324a1f",
   "metadata": {
    "ExecuteTime": {
     "end_time": "2021-05-27T07:02:36.556587Z",
     "start_time": "2021-05-27T07:02:36.543535Z"
    }
   },
   "outputs": [],
   "source": [
    "def remove_email(text):\n",
    "    text = re.sub('\\S+@\\S+', ' ', text)\n",
    "    return text\n"
   ]
  },
  {
   "cell_type": "code",
   "execution_count": 7,
   "id": "b753758d",
   "metadata": {
    "ExecuteTime": {
     "end_time": "2021-05-27T07:02:36.572568Z",
     "start_time": "2021-05-27T07:02:36.558593Z"
    }
   },
   "outputs": [],
   "source": [
    "def remove_special_characters(text):\n",
    "    pattern = r'[^a-zA-Z\\s]'\n",
    "    text = re.sub(pattern, ' ', text)\n",
    "    return text"
   ]
  },
  {
   "cell_type": "code",
   "execution_count": 8,
   "id": "8d83d4fb",
   "metadata": {
    "ExecuteTime": {
     "end_time": "2021-05-27T07:02:36.588537Z",
     "start_time": "2021-05-27T07:02:36.576572Z"
    }
   },
   "outputs": [],
   "source": [
    "def remove_spacing(text):\n",
    "    res = \" \".join(text.split())\n",
    "    return res"
   ]
  },
  {
   "cell_type": "code",
   "execution_count": 9,
   "id": "f5405b76",
   "metadata": {
    "ExecuteTime": {
     "end_time": "2021-05-27T07:02:36.604534Z",
     "start_time": "2021-05-27T07:02:36.591613Z"
    }
   },
   "outputs": [],
   "source": [
    "c_re = re.compile('(%s)' % '|'.join(CONTRACTION_MAP.keys()))\n",
    "def expand_contractions(s, contractions_dict=CONTRACTION_MAP):\n",
    "    def replace(match):\n",
    "        return contractions_dict[match.group(0)]\n",
    "    return c_re.sub(replace, s)"
   ]
  },
  {
   "cell_type": "code",
   "execution_count": 48,
   "id": "c098ead3",
   "metadata": {
    "ExecuteTime": {
     "end_time": "2021-05-27T08:02:18.647103Z",
     "start_time": "2021-05-27T08:02:18.632103Z"
    }
   },
   "outputs": [],
   "source": [
    "def lemmatizer_acc(sent):\n",
    "    lemmatizer = WordNetLemmatizer()\n",
    "    lemma_sent = []\n",
    "    for word, tag in pos_tag(nltk.word_tokenize(sent)):\n",
    "        wntag = tag[0].lower()\n",
    "        wntag = wntag if wntag in ['a', 'r', 'n', 'v'] else None\n",
    "        if not wntag:\n",
    "            lemma = word\n",
    "        else:\n",
    "            lemma = lemmatizer.lemmatize(word, wntag)\n",
    "        lemma_sent.append(lemma)\n",
    "    lemma_sent = \" \".join(lemma_sent)\n",
    "    return lemma_sent\n",
    "\n",
    "def tokenizer_and_lemmatizer(sents):\n",
    "    lemmatizer = WordNetLemmatizer()\n",
    "    new_sents = []\n",
    "    for ind, sent in enumerate(sents):\n",
    "        print(ind)\n",
    "        lemma_sent = lemmatizer_acc(sent)\n",
    "        new_sents.append(lemma_sent)\n",
    "    return new_sents"
   ]
  },
  {
   "cell_type": "code",
   "execution_count": 11,
   "id": "c4393bb0",
   "metadata": {
    "ExecuteTime": {
     "end_time": "2021-05-27T07:02:36.636536Z",
     "start_time": "2021-05-27T07:02:36.623535Z"
    }
   },
   "outputs": [],
   "source": [
    "def tokenizer(text):\n",
    "    text = nltk.word_tokenize(text)\n",
    "    return text"
   ]
  },
  {
   "cell_type": "code",
   "execution_count": 52,
   "id": "f83ccc4d",
   "metadata": {
    "ExecuteTime": {
     "end_time": "2021-05-27T09:05:59.607031Z",
     "start_time": "2021-05-27T09:05:59.588049Z"
    }
   },
   "outputs": [],
   "source": [
    "stopwordList = set(stopwords.words('english'))\n",
    "def remove_stopwords(text, stopwordsList):\n",
    "    text = [word for word in text.split() if word not in stopwordsList]\n",
    "    return text"
   ]
  },
  {
   "cell_type": "code",
   "execution_count": null,
   "id": "e66a2a45",
   "metadata": {
    "ExecuteTime": {
     "end_time": "2021-05-27T08:15:05.027609Z",
     "start_time": "2021-05-27T08:15:05.014635Z"
    }
   },
   "outputs": [],
   "source": []
  },
  {
   "cell_type": "code",
   "execution_count": null,
   "id": "48e226ee",
   "metadata": {},
   "outputs": [],
   "source": []
  }
 ],
 "metadata": {
  "kernelspec": {
   "display_name": "Pytorch (conda)",
   "language": "python",
   "name": "pytorch"
  },
  "language_info": {
   "codemirror_mode": {
    "name": "ipython",
    "version": 3
   },
   "file_extension": ".py",
   "mimetype": "text/x-python",
   "name": "python",
   "nbconvert_exporter": "python",
   "pygments_lexer": "ipython3",
   "version": "3.7.10"
  }
 },
 "nbformat": 4,
 "nbformat_minor": 5
}
