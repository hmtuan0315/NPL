{
 "cells": [
  {
   "cell_type": "markdown",
   "id": "2122e9e1",
   "metadata": {},
   "source": [
    "# If you want to download datasets and trained models, go to this [link](https://drive.google.com/drive/folders/1Ltqj8wiuXxrl1p_KzrzfaJkn2EDfI-M4?usp=sharing). Download file named text generation using lstm.zip and unzip it"
   ]
  },
  {
   "cell_type": "code",
   "execution_count": 1,
   "id": "67542c17",
   "metadata": {
    "ExecuteTime": {
     "end_time": "2021-06-01T02:03:57.114867Z",
     "start_time": "2021-06-01T02:03:57.092869Z"
    }
   },
   "outputs": [],
   "source": [
    "%config IPCompleter.use_jedi = False"
   ]
  },
  {
   "cell_type": "code",
   "execution_count": 2,
   "id": "69def4d9",
   "metadata": {
    "ExecuteTime": {
     "end_time": "2021-06-01T02:04:07.669057Z",
     "start_time": "2021-06-01T02:03:59.170111Z"
    }
   },
   "outputs": [],
   "source": [
    "import re\n",
    "import pickle\n",
    "import random\n",
    "\n",
    "import numpy as np\n",
    "import pandas as pd\n",
    "import torch\n",
    "import torch.nn as nn\n",
    "import torch.nn.functional as F\n",
    "import seaborn as sns\n",
    "import matplotlib.pyplot as plot"
   ]
  },
  {
   "cell_type": "code",
   "execution_count": 3,
   "id": "71375e09",
   "metadata": {
    "ExecuteTime": {
     "end_time": "2021-06-01T02:04:07.700984Z",
     "start_time": "2021-06-01T02:04:07.669057Z"
    }
   },
   "outputs": [],
   "source": [
    "pickle_in = open(\"plots_text.pickle\",\"rb\")\n",
    "movie_plots = pickle.load(pickle_in)"
   ]
  },
  {
   "cell_type": "code",
   "execution_count": 4,
   "id": "41ec7d73",
   "metadata": {
    "ExecuteTime": {
     "end_time": "2021-06-01T02:04:07.732982Z",
     "start_time": "2021-06-01T02:04:07.704007Z"
    }
   },
   "outputs": [],
   "source": [
    "movie_plots = [re.sub(\"[^a-z' ]\", \"\", i) for i in movie_plots]"
   ]
  },
  {
   "cell_type": "code",
   "execution_count": 5,
   "id": "a47171f3",
   "metadata": {
    "ExecuteTime": {
     "end_time": "2021-06-01T02:04:07.764956Z",
     "start_time": "2021-06-01T02:04:07.735978Z"
    }
   },
   "outputs": [],
   "source": [
    "len_arr = []\n",
    "def count_sent_len(sent):\n",
    "    sent = sent.split()\n",
    "    length= len(sent)\n",
    "    len_arr.append(length)\n",
    "    return length\n",
    "\n",
    "for sent in movie_plots:\n",
    "    count_sent_len(sent)"
   ]
  },
  {
   "cell_type": "code",
   "execution_count": 6,
   "id": "07d0a94c",
   "metadata": {
    "ExecuteTime": {
     "end_time": "2021-06-01T02:04:14.443188Z",
     "start_time": "2021-06-01T02:04:14.426210Z"
    }
   },
   "outputs": [],
   "source": [
    "# count_arr = []\n",
    "# range = 100\n",
    "# len_pd = pd.Series(len_arr)\n",
    "# len_pd.describe()\n",
    "    "
   ]
  },
  {
   "cell_type": "code",
   "execution_count": 7,
   "id": "39675a1f",
   "metadata": {
    "ExecuteTime": {
     "end_time": "2021-06-01T02:04:14.887512Z",
     "start_time": "2021-06-01T02:04:14.881553Z"
    }
   },
   "outputs": [],
   "source": [
    "# plot.figure(figsize=(10,6))\n",
    "# sns.distplot(len_pd, bins=100)"
   ]
  },
  {
   "cell_type": "markdown",
   "id": "4c25ba33",
   "metadata": {},
   "source": [
    "### Instead of padding sentence for LSTM, i split a sentence into many sentence with a same lenght.\n",
    "### For example: ['i', 'have', 'played', 'football', 'yesterday']\n",
    "### If i choose seq_len is 3, the sentence will be splited in to 3 senctences\n",
    "### ['i', 'have', 'played'], ['have', 'played', 'football'], ['played', 'football', 'yesterday']"
   ]
  },
  {
   "cell_type": "code",
   "execution_count": 8,
   "id": "7ab016d4",
   "metadata": {
    "ExecuteTime": {
     "end_time": "2021-06-01T02:04:24.764855Z",
     "start_time": "2021-06-01T02:04:15.546189Z"
    }
   },
   "outputs": [],
   "source": [
    "def create_seq(text, seq_len = 10):\n",
    "    sequences = []\n",
    "    if len(text.split()) > seq_len:\n",
    "        for i in range(seq_len, len(text.split())):\n",
    "            seq = text.split()[i-seq_len:i+1]\n",
    "            sequences.append(\" \".join(seq))\n",
    "        return sequences\n",
    "\n",
    "    else: \n",
    "        return [text]\n",
    "\n",
    "fix_length_seqs = [create_seq(i) for i in movie_plots]\n",
    "fix_length_seqs = sum(fix_length_seqs, [])"
   ]
  },
  {
   "cell_type": "code",
   "execution_count": 9,
   "id": "6eb487e4",
   "metadata": {
    "ExecuteTime": {
     "end_time": "2021-06-01T02:04:24.796841Z",
     "start_time": "2021-06-01T02:04:24.764855Z"
    }
   },
   "outputs": [],
   "source": [
    "tokenized_movie_plots = [sent.split() for sent in movie_plots]"
   ]
  },
  {
   "cell_type": "markdown",
   "id": "bc8c035c",
   "metadata": {},
   "source": [
    "# Create word2index dictionary for encode sentence"
   ]
  },
  {
   "cell_type": "code",
   "execution_count": 10,
   "id": "c6f2a268",
   "metadata": {
    "ExecuteTime": {
     "end_time": "2021-06-01T02:04:27.072558Z",
     "start_time": "2021-06-01T02:04:24.799789Z"
    }
   },
   "outputs": [],
   "source": [
    "import gensim\n",
    "from gensim import corpora\n",
    "word2index = corpora.Dictionary(tokenized_movie_plots)"
   ]
  },
  {
   "cell_type": "code",
   "execution_count": 11,
   "id": "b991a178",
   "metadata": {
    "ExecuteTime": {
     "end_time": "2021-06-01T02:04:27.251680Z",
     "start_time": "2021-06-01T02:04:27.240713Z"
    }
   },
   "outputs": [
    {
     "data": {
      "text/plain": [
       "16592"
      ]
     },
     "execution_count": 11,
     "metadata": {},
     "output_type": "execute_result"
    }
   ],
   "source": [
    "vocal_size = len(word2index)\n",
    "vocal_size"
   ]
  },
  {
   "cell_type": "code",
   "execution_count": 12,
   "id": "95dee18c",
   "metadata": {
    "ExecuteTime": {
     "end_time": "2021-05-31T16:33:33.721888Z",
     "start_time": "2021-05-31T16:33:33.119883Z"
    }
   },
   "outputs": [
    {
     "name": "stdout",
     "output_type": "stream",
     "text": [
      "150144 150144\n"
     ]
    }
   ],
   "source": [
    "count = 0\n",
    "x = []\n",
    "y = []\n",
    "for s in fix_length_seqs:\n",
    "    if count < 1:\n",
    "        x.append(\" \".join(s.split()[:-1]))\n",
    "        y.append(\" \".join(s.split()[1:]))\n",
    "print(len(x), len(y))"
   ]
  },
  {
   "cell_type": "code",
   "execution_count": 13,
   "id": "7f224d7d",
   "metadata": {
    "ExecuteTime": {
     "end_time": "2021-05-31T16:33:38.481852Z",
     "start_time": "2021-05-31T16:33:33.724884Z"
    }
   },
   "outputs": [],
   "source": [
    "def encode_sent(sents, seq_len):\n",
    "    res = np.zeros((len(x), seq_len), dtype = int)\n",
    "    \n",
    "    for i, sent in enumerate(sents):\n",
    "        new = [word2index.token2id[word] for word in sent.split() if word in word2index.token2id.keys()]\n",
    "        res[i,:] = np.array(new)\n",
    "    \n",
    "    return res\n",
    "X = encode_sent(x, 10)\n",
    "Y = encode_sent(y, 10)\n",
    "y = Y\n",
    "# y = [encode_sent(tok_sent) for tok_sent in y]"
   ]
  },
  {
   "cell_type": "markdown",
   "id": "2f8deb2b",
   "metadata": {},
   "source": [
    "# Train test split and batch loader"
   ]
  },
  {
   "cell_type": "code",
   "execution_count": 14,
   "id": "05779c61",
   "metadata": {
    "ExecuteTime": {
     "end_time": "2021-05-31T16:33:38.721850Z",
     "start_time": "2021-05-31T16:33:38.484851Z"
    }
   },
   "outputs": [],
   "source": [
    "rate = 0.1/0.9\n",
    "from sklearn.model_selection import train_test_split\n",
    "X_train, X_test, y_train, y_test = train_test_split(X, y, test_size=0.1, random_state=1)\n",
    "X_train, X_val, y_train, y_val = train_test_split(X_train, y_train, test_size=rate, random_state=1) # 0.25 x 0.8 = 0.2"
   ]
  },
  {
   "cell_type": "code",
   "execution_count": 15,
   "id": "971b051b",
   "metadata": {
    "ExecuteTime": {
     "end_time": "2021-05-31T16:33:38.736882Z",
     "start_time": "2021-05-31T16:33:38.725852Z"
    }
   },
   "outputs": [],
   "source": [
    "from torch.utils.data import DataLoader, TensorDataset\n",
    "train_data = TensorDataset(torch.from_numpy(X_train), torch.from_numpy(y_train))\n",
    "valid_data = TensorDataset(torch.from_numpy(X_val), torch.from_numpy(y_val))\n",
    "test_data = TensorDataset(torch.from_numpy(X_test), torch.from_numpy(y_test))"
   ]
  },
  {
   "cell_type": "code",
   "execution_count": 16,
   "id": "ebe40058",
   "metadata": {
    "ExecuteTime": {
     "end_time": "2021-05-31T16:33:38.798851Z",
     "start_time": "2021-05-31T16:33:38.739853Z"
    }
   },
   "outputs": [],
   "source": [
    "# dataloaders\n",
    "batch_size = 50\n",
    "# make sure to SHUFFLE your data\n",
    "train_loader = DataLoader(train_data, shuffle=True, batch_size=batch_size)\n",
    "valid_loader = DataLoader(valid_data, shuffle=True, batch_size=batch_size)\n",
    "test_loader = DataLoader(test_data, shuffle=True, batch_size=batch_size)"
   ]
  },
  {
   "cell_type": "code",
   "execution_count": 17,
   "id": "1878fe86",
   "metadata": {
    "ExecuteTime": {
     "end_time": "2021-05-31T16:33:38.845851Z",
     "start_time": "2021-05-31T16:33:38.800850Z"
    }
   },
   "outputs": [
    {
     "name": "stdout",
     "output_type": "stream",
     "text": [
      "torch.Size([50, 10])\n"
     ]
    }
   ],
   "source": [
    "for x, y  in train_loader:\n",
    "    print(x.size())\n",
    "    break\n",
    "    "
   ]
  },
  {
   "cell_type": "markdown",
   "id": "4d19bdd6",
   "metadata": {},
   "source": [
    "# Create LSTM model"
   ]
  },
  {
   "cell_type": "code",
   "execution_count": 13,
   "id": "b5d9d6e4",
   "metadata": {
    "ExecuteTime": {
     "end_time": "2021-06-01T02:05:40.382162Z",
     "start_time": "2021-06-01T02:05:32.194147Z"
    }
   },
   "outputs": [
    {
     "data": {
      "text/plain": [
       "LSTM_Net(\n",
       "  (embedding): Embedding(16592, 200)\n",
       "  (lstm): LSTM(200, 256, num_layers=2, batch_first=True, dropout=0.5)\n",
       "  (dropout): Dropout(p=0.3, inplace=False)\n",
       "  (fc1): Linear(in_features=256, out_features=16592, bias=True)\n",
       ")"
      ]
     },
     "execution_count": 13,
     "metadata": {},
     "output_type": "execute_result"
    }
   ],
   "source": [
    "class LSTM_Net(nn.Module):\n",
    "    def __init__(self, embedding_dim, input_size, num_layers, output_size, hidden_dim, p_drop= 0.3):\n",
    "        super(LSTM_Net, self).__init__()\n",
    "        self.input_size = input_size\n",
    "        self.output_size = output_size\n",
    "        self.n_layers = num_layers\n",
    "        self.hidden_dim = hidden_dim\n",
    "        self.embedding_dim = embedding_dim\n",
    "        \n",
    "        self.embedding = nn.Embedding(input_size, embedding_dim)\n",
    "        self.lstm = nn.LSTM(embedding_dim, hidden_dim, num_layers, dropout=0.5, batch_first=True)\n",
    "        self.dropout = nn.Dropout(p_drop)\n",
    "        self.fc1 = nn.Linear(hidden_dim, output_size)\n",
    "    \n",
    "    def init_hidden(self, batch_size):\n",
    "        weight = next(self.parameters()).data\n",
    "        if (torch.cuda.is_available()):\n",
    "            hidden = (weight.new(self.n_layers, batch_size, self.hidden_dim).zero_().cuda(),\n",
    "                  weight.new(self.n_layers, batch_size, self.hidden_dim).zero_().cuda())\n",
    "        else:\n",
    "            hidden = (weight.new(self.n_layers, batch_size, self.hidden_dim).zero_(),\n",
    "                      weight.new(self.n_layers, batch_size, self.hidden_dim).zero_())\n",
    "        \n",
    "        return hidden\n",
    "    \n",
    "    def forward(self, x, h):\n",
    "        out = self.embedding(x)\n",
    "        out, h = self.lstm(out, h)\n",
    "        out = self.dropout(out)\n",
    "        \n",
    "        # turn into 2D array for linear layer\n",
    "        out = out.reshape(-1, self.hidden_dim)\n",
    "        out = self.fc1(out)\n",
    "        return out, h\n",
    "\n",
    "EMBEDDING_DIM = 200\n",
    "INPUT_SIZE = vocal_size\n",
    "OUTPUT_SIZE = vocal_size\n",
    "NUM_LAYERS = 2\n",
    "HIDDEN_DIM = 256\n",
    "lstm_model = LSTM_Net(EMBEDDING_DIM, INPUT_SIZE, NUM_LAYERS, OUTPUT_SIZE, HIDDEN_DIM)\n",
    "\n",
    "if(torch.cuda.is_available()):\n",
    "    lstm_model = lstm_model.cuda()\n",
    "lstm_model"
   ]
  },
  {
   "cell_type": "markdown",
   "id": "0f9e8724",
   "metadata": {},
   "source": [
    "# Train model"
   ]
  },
  {
   "cell_type": "code",
   "execution_count": 19,
   "id": "b1e134d7",
   "metadata": {
    "ExecuteTime": {
     "end_time": "2021-05-31T16:33:41.980849Z",
     "start_time": "2021-05-31T16:33:41.967853Z"
    }
   },
   "outputs": [],
   "source": [
    "NUM_EPOCHS = 15\n",
    "LEARNING_RATE = 0.001\n",
    "\n",
    "criterion = nn.CrossEntropyLoss()\n",
    "optimizer = torch.optim.Adam(lstm_model.parameters(), lr=LEARNING_RATE)"
   ]
  },
  {
   "cell_type": "code",
   "execution_count": 20,
   "id": "8184c88b",
   "metadata": {
    "ExecuteTime": {
     "end_time": "2021-05-31T17:01:48.563739Z",
     "start_time": "2021-05-31T16:33:41.983851Z"
    }
   },
   "outputs": [
    {
     "name": "stdout",
     "output_type": "stream",
     "text": [
      "Epoch: 1/15... Train_Loss: 6.460339... Val Loss: 5.654970\n",
      "Epoch: 2/15... Train_Loss: 5.359494... Val Loss: 4.763781\n",
      "Epoch: 3/15... Train_Loss: 4.688918... Val Loss: 4.133925\n",
      "Epoch: 4/15... Train_Loss: 4.234800... Val Loss: 3.703659\n",
      "Epoch: 5/15... Train_Loss: 3.919102... Val Loss: 3.388559\n",
      "Epoch: 6/15... Train_Loss: 3.686544... Val Loss: 3.147874\n",
      "Epoch: 7/15... Train_Loss: 3.504466... Val Loss: 2.962750\n",
      "Epoch: 8/15... Train_Loss: 3.358067... Val Loss: 2.803102\n",
      "Epoch: 9/15... Train_Loss: 3.238171... Val Loss: 2.668222\n",
      "Epoch: 10/15... Train_Loss: 3.134733... Val Loss: 2.564389\n",
      "Epoch: 11/15... Train_Loss: 3.043250... Val Loss: 2.463561\n",
      "Epoch: 12/15... Train_Loss: 2.965045... Val Loss: 2.382879\n",
      "Epoch: 13/15... Train_Loss: 2.896494... Val Loss: 2.300797\n",
      "Epoch: 14/15... Train_Loss: 2.834049... Val Loss: 2.240657\n",
      "Epoch: 15/15... Train_Loss: 2.776650... Val Loss: 2.182260\n"
     ]
    }
   ],
   "source": [
    "lstm_model.train()\n",
    "clip = 5\n",
    "train_loss_arr = []\n",
    "val_loss_arr = []\n",
    "epoch_arr = []\n",
    "for epoch in range(NUM_EPOCHS):\n",
    "    running_train_loss = 0\n",
    "    running_val_loss = 0\n",
    "    for input, target in train_loader:\n",
    "        target = target.long()\n",
    "        if torch.cuda.is_available():\n",
    "            input = input.cuda()\n",
    "            target = target.cuda()\n",
    "        hidden = lstm_model.init_hidden(input.size(0))\n",
    "        lstm_model.zero_grad()\n",
    "        output, hidden = lstm_model(input, hidden)\n",
    "        \n",
    "        # make vertial dim of output and target identical\n",
    "        loss = criterion(output, target.reshape(-1))\n",
    "        loss.backward()\n",
    "        nn.utils.clip_grad_norm_(lstm_model.parameters(), clip)\n",
    "        optimizer.step()\n",
    "        \n",
    "        running_train_loss = running_train_loss + loss.item()\n",
    "        \n",
    "    lstm_model.eval()\n",
    "    for input, target in valid_loader:\n",
    "        target = target.long()\n",
    "        if torch.cuda.is_available():\n",
    "            input = input.cuda()\n",
    "            target = target.cuda()\n",
    "        hidden = lstm_model.init_hidden(input.size(0))    \n",
    "        output, hidden = lstm_model(input, hidden)\n",
    "        loss = criterion(output, target.reshape(-1))\n",
    "        running_val_loss = running_val_loss + loss.item()\n",
    "    \n",
    "    lstm_model.train()\n",
    "    train_loss_arr.append(running_train_loss/len(train_loader))\n",
    "    val_loss_arr.append(running_val_loss/len(valid_loader))\n",
    "    epoch_arr.append(epoch)\n",
    "    print(\"Epoch: {}/{}...\".format(epoch+1, NUM_EPOCHS),\n",
    "                  \"Train_Loss: {:.6f}...\".format(running_train_loss/len(train_loader)),\n",
    "                  \"Val Loss: {:.6f}\".format(running_val_loss/len(valid_loader)))"
   ]
  },
  {
   "cell_type": "markdown",
   "id": "0e8692ed",
   "metadata": {},
   "source": [
    "# Save and load model"
   ]
  },
  {
   "cell_type": "code",
   "execution_count": 15,
   "id": "d3362e78",
   "metadata": {
    "ExecuteTime": {
     "end_time": "2021-06-01T02:05:53.479484Z",
     "start_time": "2021-06-01T02:05:53.464483Z"
    }
   },
   "outputs": [],
   "source": [
    "PATH = \"lstm_textgen_state_dict_model.pt\"\n",
    "# torch.save(lstm_model.state_dict(), PATH)"
   ]
  },
  {
   "cell_type": "code",
   "execution_count": 23,
   "id": "2921b138",
   "metadata": {
    "ExecuteTime": {
     "end_time": "2021-05-31T17:03:13.510763Z",
     "start_time": "2021-05-31T17:03:13.057742Z"
    }
   },
   "outputs": [
    {
     "data": {
      "text/plain": [
       "<seaborn.axisgrid.FacetGrid at 0x18aad366708>"
      ]
     },
     "execution_count": 23,
     "metadata": {},
     "output_type": "execute_result"
    },
    {
     "data": {
      "image/png": "[encoded data removed]",
      "text/plain": [
       "<Figure size 360x360 with 1 Axes>"
      ]
     },
     "metadata": {
      "needs_background": "light"
     },
     "output_type": "display_data"
    }
   ],
   "source": [
    "sns.relplot(x=epoch_arr, y=train_loss_arr, kind=\"line\")"
   ]
  },
  {
   "cell_type": "code",
   "execution_count": 24,
   "id": "b9a70a80",
   "metadata": {
    "ExecuteTime": {
     "end_time": "2021-05-31T17:03:31.042778Z",
     "start_time": "2021-05-31T17:03:30.673742Z"
    },
    "scrolled": true
   },
   "outputs": [
    {
     "data": {
      "text/plain": [
       "<seaborn.axisgrid.FacetGrid at 0x18aad42ec48>"
      ]
     },
     "execution_count": 24,
     "metadata": {},
     "output_type": "execute_result"
    },
    {
     "data": {
      "image/png": "[encoded data removed]",
      "text/plain": [
       "<Figure size 360x360 with 1 Axes>"
      ]
     },
     "metadata": {
      "needs_background": "light"
     },
     "output_type": "display_data"
    }
   ],
   "source": [
    "sns.relplot(x=epoch_arr, y=val_loss_arr, kind=\"line\")"
   ]
  },
  {
   "cell_type": "code",
   "execution_count": 16,
   "id": "b9c20048",
   "metadata": {
    "ExecuteTime": {
     "end_time": "2021-06-01T02:06:11.881619Z",
     "start_time": "2021-06-01T02:06:11.457512Z"
    }
   },
   "outputs": [
    {
     "data": {
      "text/plain": [
       "<All keys matched successfully>"
      ]
     },
     "execution_count": 16,
     "metadata": {},
     "output_type": "execute_result"
    }
   ],
   "source": [
    "load_model = LSTM_Net(EMBEDDING_DIM, INPUT_SIZE, NUM_LAYERS, OUTPUT_SIZE, HIDDEN_DIM)\n",
    "PATH = \"lstm_textgen_state_dict_model.pt\"\n",
    "if(torch.cuda.is_available()):\n",
    "    load_model = load_model.cuda()\n",
    "load_model.load_state_dict(torch.load(PATH))"
   ]
  },
  {
   "cell_type": "markdown",
   "id": "59dbb929",
   "metadata": {},
   "source": [
    "# Test performance of model"
   ]
  },
  {
   "cell_type": "code",
   "execution_count": 17,
   "id": "0e95043d",
   "metadata": {
    "ExecuteTime": {
     "end_time": "2021-06-01T02:06:37.512733Z",
     "start_time": "2021-06-01T02:06:37.497750Z"
    },
    "scrolled": true
   },
   "outputs": [
    {
     "data": {
      "text/plain": [
       "[447, 49]"
      ]
     },
     "execution_count": 17,
     "metadata": {},
     "output_type": "execute_result"
    }
   ],
   "source": [
    "def res_encode_sent(sent):\n",
    "    new = [word2index.token2id[word] for word in sent.split() if word in word2index.token2id.keys()]\n",
    "    return new\n",
    "res_encode_sent(\"it is\")"
   ]
  },
  {
   "cell_type": "code",
   "execution_count": 152,
   "id": "fa496c63",
   "metadata": {
    "ExecuteTime": {
     "end_time": "2021-06-01T03:20:16.957633Z",
     "start_time": "2021-06-01T03:20:16.945637Z"
    }
   },
   "outputs": [],
   "source": [
    "\n",
    "def predict(net, sent, h=None):\n",
    "    x = np.array([res_encode_sent(sent)])\n",
    "    inputs = torch.from_numpy(x)\n",
    "    \n",
    "    if(torch.cuda.is_available()):\n",
    "        inputs = inputs.cuda()\n",
    "        \n",
    "    out, h = load_model(inputs, h)\n",
    "    p = F.softmax(out, dim=1).data\n",
    "    p = p.cpu()\n",
    "\n",
    "    p = p.numpy()\n",
    "    p = p.reshape(-1)\n",
    "    top_n_idx = p.argsort()[-1:]\n",
    "#     sampled_token_index = top_n_idx[random.sample([0,1,2],1)[0]]\n",
    "    word = word2index[top_n_idx[0]]\n",
    "    return word, h\n"
   ]
  },
  {
   "cell_type": "code",
   "execution_count": 153,
   "id": "1d1a6ffd",
   "metadata": {
    "ExecuteTime": {
     "end_time": "2021-06-01T03:20:17.464619Z",
     "start_time": "2021-06-01T03:20:17.457616Z"
    }
   },
   "outputs": [
    {
     "data": {
      "text/plain": [
       "'will'"
      ]
     },
     "execution_count": 153,
     "metadata": {},
     "output_type": "execute_result"
    }
   ],
   "source": [
    "word2index[376]"
   ]
  },
  {
   "cell_type": "code",
   "execution_count": 158,
   "id": "f212758f",
   "metadata": {
    "ExecuteTime": {
     "end_time": "2021-06-01T03:21:21.102437Z",
     "start_time": "2021-06-01T03:21:21.034449Z"
    }
   },
   "outputs": [
    {
     "data": {
      "text/plain": [
       "'i fuck out of the house and he discovers the digital watch he had vowed once in'"
      ]
     },
     "execution_count": 158,
     "metadata": {},
     "output_type": "execute_result"
    }
   ],
   "source": [
    "def sample(net, size, sent='it is'):\n",
    "    net.cuda()\n",
    "\n",
    "    h = net.init_hidden(1)\n",
    "    toks = sent.split()\n",
    "    \n",
    "    for t in sent.split():\n",
    "        token, h = predict(load_model, t, h)\n",
    "    \n",
    "    toks.append(token)\n",
    "    \n",
    "    for i in range(size-1):\n",
    "        token, h = predict(load_model, toks[-1], h)\n",
    "        toks.append(token)\n",
    "    \n",
    "    return ' '.join(toks)\n",
    "\n",
    "sample(load_model,15, \"i fuck\")\n",
    "\n",
    "\n",
    "    "
   ]
  },
  {
   "cell_type": "code",
   "execution_count": null,
   "id": "21be27f7",
   "metadata": {},
   "outputs": [],
   "source": []
  }
 ],
 "metadata": {
  "kernelspec": {
   "display_name": "Pytorch (conda)",
   "language": "python",
   "name": "pytorch"
  },
  "language_info": {
   "codemirror_mode": {
    "name": "ipython",
    "version": 3
   },
   "file_extension": ".py",
   "mimetype": "text/x-python",
   "name": "python",
   "nbconvert_exporter": "python",
   "pygments_lexer": "ipython3",
   "version": "3.7.10"
  }
 },
 "nbformat": 4,
 "nbformat_minor": 5
}
