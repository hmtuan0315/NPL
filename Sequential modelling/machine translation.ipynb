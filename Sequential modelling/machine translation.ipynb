{
 "cells": [
  {
   "cell_type": "markdown",
   "metadata": {},
   "source": [
    "## This project is about translate english to vietnamese using seq2seq model"
   ]
  },
  {
   "cell_type": "code",
   "execution_count": 2,
   "metadata": {
    "ExecuteTime": {
     "end_time": "2021-06-10T17:35:55.866369Z",
     "start_time": "2021-06-10T17:35:55.846416Z"
    }
   },
   "outputs": [],
   "source": [
    "%config IPCompleter.use_jedi = False"
   ]
  },
  {
   "cell_type": "code",
   "execution_count": 3,
   "metadata": {
    "ExecuteTime": {
     "end_time": "2021-06-10T17:36:01.142344Z",
     "start_time": "2021-06-10T17:35:56.334412Z"
    }
   },
   "outputs": [],
   "source": [
    "from pyvi import ViTokenizer, ViPosTagger, ViUtils\n",
    "import pyvi\n",
    "import re\n",
    "import pandas as pd\n",
    "import numpy as np\n",
    "import seaborn as sns\n",
    "import torch\n",
    "import os\n",
    "# os.environ['CUDA_LAUNCH_BLOCKING'] = '1'\n",
    "%run contractions.ipynb\n",
    "%run ../Utils.ipynb"
   ]
  },
  {
   "cell_type": "markdown",
   "metadata": {},
   "source": [
    "## After EDA, i see the english data dont match with the vietnamese data, so i have modified the data then you can download 2 file \"modified_vi.txt\" and \"modified_en.txt\" and use it "
   ]
  },
  {
   "cell_type": "code",
   "execution_count": 3,
   "metadata": {
    "ExecuteTime": {
     "end_time": "2021-06-09T17:28:39.253736Z",
     "start_time": "2021-06-09T17:28:38.766680Z"
    },
    "scrolled": true
   },
   "outputs": [],
   "source": [
    "vi_df = pd.read_csv('modified_vi.txt', delimiter = \"\\t\")"
   ]
  },
  {
   "cell_type": "code",
   "execution_count": 4,
   "metadata": {
    "ExecuteTime": {
     "end_time": "2021-06-09T17:28:39.551685Z",
     "start_time": "2021-06-09T17:28:39.256682Z"
    },
    "scrolled": true
   },
   "outputs": [],
   "source": [
    "eng_df = pd.read_csv('modified_en.txt', delimiter = \"\\t\")"
   ]
  },
  {
   "cell_type": "markdown",
   "metadata": {},
   "source": [
    "## You can use origin data from this [github link](https://github.com/stefan-it/nmt-en-vi)\n",
    "## Read file, uncomment the code below and run "
   ]
  },
  {
   "cell_type": "code",
   "execution_count": 5,
   "metadata": {
    "ExecuteTime": {
     "end_time": "2021-06-09T17:28:39.567688Z",
     "start_time": "2021-06-09T17:28:39.553681Z"
    }
   },
   "outputs": [],
   "source": [
    "# df.Col[469:-1] = df.Col[470:] \n",
    "# df.Col[8694:-1] = df.Col[8695:]\n",
    "# df.Col[9760:-1] = df.Col[9761:] \n",
    "# df.Col[10704:-1] = df.Col[10705:] \n",
    "# df.Col[21734:-1] = df.Col[21735:] \n",
    "# df.Col[26403:-1] = df.Col[26404:] \n",
    "# df.Col[29488:-1] = df.Col[29489:] \n",
    "# df.Col[38593:-1] = df.Col[38594:] \n",
    "# df.Col[41009:-1] = df.Col[41010:]\n",
    "# df.Col[48816:-1] = df.Col[48817:]\n",
    "# df.Col[50884:-1] = df.Col[50885:]\n",
    "# df.Col[51575:-1] = df.Col[51576:]\n",
    "# df.Col[54146:-1] = df.Col[54147:]\n",
    "# df.Col[56284:-1] = df.Col[56285:]\n",
    "# df.Col[57126:-1] = df.Col[57127:]\n",
    "# df.Col[57731:-1] = df.Col[57732:]\n",
    "# df.Col[58314:-1] = df.Col[58315:]\n",
    "# df.Col[66243:-1] = df.Col[66244:]\n",
    "# df.Col[68737:-1] = df.Col[68738:]\n",
    "# df.Col[73559:-1] = df.Col[73560:]\n",
    "# df.Col[76876:-1] = df.Col[76877:]\n",
    "# df.Col[77167:-1] = df.Col[77168:]\n",
    "# df.Col[79647:-1] = df.Col[79648:]\n",
    "# df.Col[87589:-1] = df.Col[87590:]\n",
    "# df.Col[88613:-1] = df.Col[88614:]\n",
    "# df.Col[89906:-1] = df.Col[89907:]\n",
    "# df.Col[94034:-1] = df.Col[94035:]\n",
    "# df.Col[104098:-1] = df.Col[104099:]\n",
    "# df.Col[104649:-1] = df.Col[104650:]\n",
    "# df.Col[106977:-1] = df.Col[106978:]\n",
    "# df.Col[112793:-1] = df.Col[112794:]\n",
    "# df.Col[115151:-1] = df.Col[115152:]\n",
    "# eng_df.Col[121582:-1] = eng_df.Col[121583:]\n",
    "# df.Col[123042:-1] = df.Col[123043:]\n",
    "# df.Col[124883:-1] = df.Col[124884:]\n",
    "# df.Col[125175:-1] = df.Col[125176:]\n",
    "# df.Col[127990:-1] = df.Col[127991:]\n",
    "# df.Col[130085:-1] = df.Col[130086:]\n",
    "# df.Col[130733:-1] = df.Col[130734:]"
   ]
  },
  {
   "cell_type": "code",
   "execution_count": 6,
   "metadata": {
    "ExecuteTime": {
     "end_time": "2021-06-09T17:28:39.583679Z",
     "start_time": "2021-06-09T17:28:39.572686Z"
    }
   },
   "outputs": [],
   "source": [
    "# lines = new_en_df.values\n",
    "# with open('modified_en.txt', 'w', encoding='utf-8') as f:\n",
    "#     f.write('\\n'.join(lines))"
   ]
  },
  {
   "cell_type": "markdown",
   "metadata": {},
   "source": [
    "## The dataset is about 130k rows, but i only use 50k rows for time saving"
   ]
  },
  {
   "cell_type": "code",
   "execution_count": 7,
   "metadata": {
    "ExecuteTime": {
     "end_time": "2021-06-09T17:28:39.599682Z",
     "start_time": "2021-06-09T17:28:39.586682Z"
    }
   },
   "outputs": [],
   "source": [
    "eng_sents = eng_df.Col.values[0:50000]\n",
    "vi_sents = vi_df.Col.values[0:50000]"
   ]
  },
  {
   "cell_type": "markdown",
   "metadata": {},
   "source": [
    "# Preprocessing"
   ]
  },
  {
   "cell_type": "code",
   "execution_count": 8,
   "metadata": {
    "ExecuteTime": {
     "end_time": "2021-06-09T17:28:42.969683Z",
     "start_time": "2021-06-09T17:28:39.604680Z"
    }
   },
   "outputs": [],
   "source": [
    "def expand_contractions(s, contractions_dict=CONTRACTION_MAP):\n",
    "    c_re = re.compile('(%s)' % '|'.join(CONTRACTION_MAP.keys()))\n",
    "    def replace(match):\n",
    "        return contractions_dict[match.group(0)]\n",
    "    return c_re.sub(replace, s)\n",
    "\n",
    "def eng_preprocessing(text):\n",
    "    text = text.lower()\n",
    "    #remove html tag\n",
    "    text = re.sub('\\s\\B&apos;', \"'\", text)\n",
    "    text = re.sub('\\s\\B&quot;', '', text)\n",
    "    #contractions\n",
    "    text = expand_contractions(text)\n",
    "    #remove special character\n",
    "    text = re.sub(\"[^a-zA-z0-9\\s]\", ' ',text)\n",
    "    #add sos and eos token\n",
    "    text = \" \".join(['SOS', text, 'EOS'])\n",
    "    return text\n",
    "eng_sents = list(map(eng_preprocessing, eng_sents))\n"
   ]
  },
  {
   "cell_type": "code",
   "execution_count": 9,
   "metadata": {
    "ExecuteTime": {
     "end_time": "2021-06-09T17:28:43.819703Z",
     "start_time": "2021-06-09T17:28:42.974682Z"
    }
   },
   "outputs": [],
   "source": [
    "def vi_preprocessing(text):\n",
    "    text = text.lower()\n",
    "    text = re.sub('\\s\\B&apos;', \"'\", text)\n",
    "    text = re.sub('\\s\\B&quot;', '', text)\n",
    "    text = re.sub(r\"[!@#$%~&-/?><.,;:{}+_`|^=]\", ' ', text)\n",
    "    text = \" \".join(['SOS', text, 'EOS'])\n",
    "    return text\n",
    "vi_sents = list(map(vi_preprocessing, vi_sents))\n"
   ]
  },
  {
   "cell_type": "code",
   "execution_count": 10,
   "metadata": {
    "ExecuteTime": {
     "end_time": "2021-06-09T17:28:43.835714Z",
     "start_time": "2021-06-09T17:28:43.822683Z"
    }
   },
   "outputs": [
    {
     "data": {
      "text/plain": [
       "['SOS rachel pike   the science behind a climate headline EOS',\n",
       " 'SOS in 4 minutes   atmospheric chemist rachel pike provides a glimpse of the massive scientific effort behind the bold headlines on climate change   with her team    one of thousands who contributed    taking a risky flight over the rainforest in pursuit of data on a key molecule   EOS',\n",
       " 'SOS i would like to talk to you today about the scale of the scientific effort that goes into making the headlines you see in the paper   EOS',\n",
       " 'SOS headlines that look like this when they have to do with climate change   and headlines that look like this when they have to do with air quality or smog   EOS',\n",
       " 'SOS they are both two branches of the same field of atmospheric science   EOS']"
      ]
     },
     "execution_count": 10,
     "metadata": {},
     "output_type": "execute_result"
    }
   ],
   "source": [
    "eng_sents[0:5]"
   ]
  },
  {
   "cell_type": "code",
   "execution_count": 11,
   "metadata": {
    "ExecuteTime": {
     "end_time": "2021-06-09T17:28:43.867706Z",
     "start_time": "2021-06-09T17:28:43.838682Z"
    }
   },
   "outputs": [
    {
     "data": {
      "text/plain": [
       "['SOS các tiêu đề gần đây trông như thế này khi ban điều hành biến đổi khí hậu liên chính phủ   gọi tắt là ipcc đưa ra bài nghiên cứu của họ về hệ thống khí quyển EOS',\n",
       " 'SOS nghiên cứu được viết bởi 620 nhà khoa học từ 40 quốc gia khác nhau EOS',\n",
       " 'SOS họ viết gần 1000 trang về chủ đề này EOS',\n",
       " 'SOS và tất cả các trang đều được xem xét bởi 400 khoa học gia và nhà phê bình khác từ 113 quốc gia EOS',\n",
       " 'SOS đó là cả một cộng đồng lớn   lớn đến nỗi trên thực tế cuộc tụ hội hằng năm của chúng tôi là hội nghị khoa học   91  tự nhiên   93  lớn nhất thế giới EOS']"
      ]
     },
     "execution_count": 11,
     "metadata": {},
     "output_type": "execute_result"
    }
   ],
   "source": [
    "vi_sents[5:10]"
   ]
  },
  {
   "cell_type": "markdown",
   "metadata": {},
   "source": [
    "## I use package pyvi for tokenize vietnamese text "
   ]
  },
  {
   "cell_type": "code",
   "execution_count": 12,
   "metadata": {
    "ExecuteTime": {
     "end_time": "2021-06-09T17:28:43.946712Z",
     "start_time": "2021-06-09T17:28:43.870704Z"
    }
   },
   "outputs": [
    {
     "name": "stdout",
     "output_type": "stream",
     "text": [
      "SOS Ny\n",
      "nghiên_cứu V\n",
      "được V\n",
      "viết V\n",
      "bởi E\n",
      "620 M\n",
      "nhà N\n",
      "khoa_học N\n",
      "từ E\n",
      "40 M\n",
      "quốc_gia N\n",
      "khác A\n",
      "nhau N\n",
      "EOS Np\n"
     ]
    }
   ],
   "source": [
    "text = vi_sents[6]\n",
    "for ind in range(len(ViTokenizer.tokenize(text).split())):\n",
    "    print(ViPosTagger.postagging(ViTokenizer.tokenize(text))[0][ind], ViPosTagger.postagging(ViTokenizer.tokenize(text))[1][ind])\n"
   ]
  },
  {
   "cell_type": "code",
   "execution_count": 13,
   "metadata": {
    "ExecuteTime": {
     "end_time": "2021-06-09T17:29:19.428227Z",
     "start_time": "2021-06-09T17:28:43.949683Z"
    }
   },
   "outputs": [],
   "source": [
    "vi_tok = [ViTokenizer.tokenize(text).split() for text in vi_sents]\n",
    "eng_tok = [text.split() for text in eng_sents]"
   ]
  },
  {
   "cell_type": "markdown",
   "metadata": {},
   "source": [
    "## Create word2index Dictionary for encoding sentence"
   ]
  },
  {
   "cell_type": "code",
   "execution_count": 14,
   "metadata": {
    "ExecuteTime": {
     "end_time": "2021-06-09T17:29:27.424259Z",
     "start_time": "2021-06-09T17:29:19.431226Z"
    }
   },
   "outputs": [],
   "source": [
    "import gensim\n",
    "from gensim import corpora\n",
    "eng_vocal = corpora.Dictionary(eng_tok)\n",
    "vi_vocal = corpora.Dictionary(vi_tok)"
   ]
  },
  {
   "cell_type": "markdown",
   "metadata": {},
   "source": [
    "## The pad token has the value 0"
   ]
  },
  {
   "cell_type": "code",
   "execution_count": 15,
   "metadata": {
    "ExecuteTime": {
     "end_time": "2021-06-09T17:29:27.456207Z",
     "start_time": "2021-06-09T17:29:27.426265Z"
    }
   },
   "outputs": [],
   "source": [
    "special_tokens = {'PAD': 0}\n",
    "eng_vocal.patch_with_special_tokens(special_tokens)\n",
    "vi_vocal.patch_with_special_tokens(special_tokens)"
   ]
  },
  {
   "cell_type": "code",
   "execution_count": 16,
   "metadata": {
    "ExecuteTime": {
     "end_time": "2021-06-09T17:29:27.487236Z",
     "start_time": "2021-06-09T17:29:27.459206Z"
    }
   },
   "outputs": [
    {
     "data": {
      "text/plain": [
       "26990"
      ]
     },
     "execution_count": 16,
     "metadata": {},
     "output_type": "execute_result"
    }
   ],
   "source": [
    "len(eng_vocal)"
   ]
  },
  {
   "cell_type": "code",
   "execution_count": 17,
   "metadata": {
    "ExecuteTime": {
     "end_time": "2021-06-09T17:29:27.502205Z",
     "start_time": "2021-06-09T17:29:27.490207Z"
    }
   },
   "outputs": [
    {
     "data": {
      "text/plain": [
       "20653"
      ]
     },
     "execution_count": 17,
     "metadata": {},
     "output_type": "execute_result"
    }
   ],
   "source": [
    "len(vi_vocal)"
   ]
  },
  {
   "cell_type": "code",
   "execution_count": 18,
   "metadata": {
    "ExecuteTime": {
     "end_time": "2021-06-09T17:29:27.533207Z",
     "start_time": "2021-06-09T17:29:27.505205Z"
    }
   },
   "outputs": [],
   "source": [
    "len_vi_sent = [len(text) for text in vi_tok]\n",
    "len_eng_sent = [len(text) for text in eng_tok]"
   ]
  },
  {
   "cell_type": "code",
   "execution_count": 19,
   "metadata": {
    "ExecuteTime": {
     "end_time": "2021-06-09T17:29:27.548205Z",
     "start_time": "2021-06-09T17:29:27.536206Z"
    }
   },
   "outputs": [
    {
     "name": "stdout",
     "output_type": "stream",
     "text": [
      "3989\n"
     ]
    }
   ],
   "source": [
    "count = 0\n",
    "for sent in len_vi_sent:\n",
    "    if sent >= 40:\n",
    "        count = count+1\n",
    "print(count)"
   ]
  },
  {
   "cell_type": "code",
   "execution_count": 20,
   "metadata": {
    "ExecuteTime": {
     "end_time": "2021-06-09T17:29:28.180205Z",
     "start_time": "2021-06-09T17:29:27.550207Z"
    },
    "scrolled": true
   },
   "outputs": [
    {
     "data": {
      "text/plain": [
       "<seaborn.axisgrid.FacetGrid at 0x1e5398ba648>"
      ]
     },
     "execution_count": 20,
     "metadata": {},
     "output_type": "execute_result"
    },
    {
     "data": {
      "image/png": "[encoded data removed]",
      "text/plain": [
       "<Figure size 360x360 with 1 Axes>"
      ]
     },
     "metadata": {
      "needs_background": "light"
     },
     "output_type": "display_data"
    }
   ],
   "source": [
    "sns.displot(x=len_vi_sent, binwidth=10)"
   ]
  },
  {
   "cell_type": "markdown",
   "metadata": {},
   "source": [
    "## Encode sentence"
   ]
  },
  {
   "cell_type": "code",
   "execution_count": 21,
   "metadata": {
    "ExecuteTime": {
     "end_time": "2021-06-09T17:29:29.989792Z",
     "start_time": "2021-06-09T17:29:28.183211Z"
    }
   },
   "outputs": [],
   "source": [
    "def eng_encode_sent(sent):\n",
    "    sent = [eng_vocal.token2id[word] for word in sent if word in eng_vocal.token2id.keys()]\n",
    "    return sent\n",
    "def vi_encode_sent(sent):\n",
    "    sent = [vi_vocal.token2id[word] for word in sent if word in vi_vocal.token2id.keys()]\n",
    "    return sent\n",
    "eng_encoded = list(map(eng_encode_sent, eng_tok))\n",
    "vi_encoded = list(map(vi_encode_sent, vi_tok))"
   ]
  },
  {
   "cell_type": "markdown",
   "metadata": {},
   "source": [
    "## Padding encoded sentence"
   ]
  },
  {
   "cell_type": "code",
   "execution_count": 22,
   "metadata": {
    "ExecuteTime": {
     "end_time": "2021-06-09T17:29:31.457691Z",
     "start_time": "2021-06-09T17:29:29.992751Z"
    }
   },
   "outputs": [],
   "source": [
    "def pad_features(encoded_sent, seq_length):\n",
    "    features = np.zeros((len(encoded_sent), seq_length), dtype = int)\n",
    "    \n",
    "    for i, review in enumerate(encoded_sent):\n",
    "        review_len = len(review)\n",
    "        if review_len <= seq_length:\n",
    "            zeroes = list(np.zeros(seq_length-review_len))\n",
    "            new = review+zeroes\n",
    "        elif review_len > seq_length:\n",
    "            new = review[0:seq_length]\n",
    "        features[i,:] = np.array(new)  \n",
    "    return features\n",
    "\n",
    "eng_encoded = pad_features(eng_encoded, 40)\n",
    "vi_encoded = pad_features(vi_encoded, 40)\n",
    "\n",
    "X = eng_encoded\n",
    "y = vi_encoded"
   ]
  },
  {
   "cell_type": "code",
   "execution_count": 23,
   "metadata": {
    "ExecuteTime": {
     "end_time": "2021-06-09T17:29:31.473695Z",
     "start_time": "2021-06-09T17:29:31.465693Z"
    },
    "scrolled": true
   },
   "outputs": [
    {
     "data": {
      "text/plain": [
       "array([    1,     7,     6,     9,     8,     3,     2,     4,     5,\n",
       "       26989,     0,     0,     0,     0,     0,     0,     0,     0,\n",
       "           0,     0,     0,     0,     0,     0,     0,     0,     0,\n",
       "           0,     0,     0,     0,     0,     0,     0,     0,     0,\n",
       "           0,     0,     0,     0])"
      ]
     },
     "execution_count": 23,
     "metadata": {},
     "output_type": "execute_result"
    }
   ],
   "source": [
    "eng_encoded[0]"
   ]
  },
  {
   "cell_type": "markdown",
   "metadata": {},
   "source": [
    "# Train test split and batch loader"
   ]
  },
  {
   "cell_type": "code",
   "execution_count": 24,
   "metadata": {
    "ExecuteTime": {
     "end_time": "2021-06-09T17:29:31.536722Z",
     "start_time": "2021-06-09T17:29:31.478699Z"
    }
   },
   "outputs": [],
   "source": [
    "rate = 0.1/0.9\n",
    "from sklearn.model_selection import train_test_split\n",
    "X_train, X_test, y_train, y_test = train_test_split(X, y, test_size=0.1, random_state=1)\n",
    "X_train, X_val, y_train, y_val = train_test_split(X_train, y_train, test_size=rate, random_state=1)"
   ]
  },
  {
   "cell_type": "code",
   "execution_count": 25,
   "metadata": {
    "ExecuteTime": {
     "end_time": "2021-06-09T17:29:31.551692Z",
     "start_time": "2021-06-09T17:29:31.539692Z"
    }
   },
   "outputs": [],
   "source": [
    "import torch\n",
    "import torch.nn as nn\n",
    "from torch.utils.data import DataLoader, TensorDataset\n",
    "train_data = TensorDataset(torch.from_numpy(X_train), torch.from_numpy(y_train))\n",
    "valid_data = TensorDataset(torch.from_numpy(X_val), torch.from_numpy(y_val))\n",
    "test_data = TensorDataset(torch.from_numpy(X_test), torch.from_numpy(y_test))"
   ]
  },
  {
   "cell_type": "code",
   "execution_count": 26,
   "metadata": {
    "ExecuteTime": {
     "end_time": "2021-06-09T17:29:31.598727Z",
     "start_time": "2021-06-09T17:29:31.553693Z"
    }
   },
   "outputs": [],
   "source": [
    "batch_size = 10\n",
    "device = \"cpu\"\n",
    "if torch.cuda.is_available():\n",
    "    device = \"cuda\"\n",
    "# make sure to SHUFFLE your data\n",
    "train_loader = DataLoader(train_data, shuffle=True, batch_size=batch_size)\n",
    "valid_loader = DataLoader(valid_data, shuffle=True, batch_size=batch_size)\n",
    "test_loader = DataLoader(test_data, shuffle=True, batch_size=batch_size)"
   ]
  },
  {
   "cell_type": "code",
   "execution_count": 27,
   "metadata": {
    "ExecuteTime": {
     "end_time": "2021-06-09T17:29:31.614690Z",
     "start_time": "2021-06-09T17:29:31.600751Z"
    }
   },
   "outputs": [],
   "source": [
    "# for x, y in train_loader:\n",
    "#     print(x.size())\n",
    "#     break"
   ]
  },
  {
   "cell_type": "markdown",
   "metadata": {},
   "source": [
    "## Create encoder model"
   ]
  },
  {
   "cell_type": "markdown",
   "metadata": {},
   "source": [
    "### each word of source sentence will be the input of lstm cell, then the lstm cell outputs hidden cell and its output. \n",
    "### The last hidden cell is the input of encoder"
   ]
  },
  {
   "cell_type": "code",
   "execution_count": 28,
   "metadata": {
    "ExecuteTime": {
     "end_time": "2021-06-09T17:29:31.630693Z",
     "start_time": "2021-06-09T17:29:31.617691Z"
    },
    "scrolled": true
   },
   "outputs": [],
   "source": [
    "class Encoder(nn.Module):\n",
    "    def __init__(self, input_size, embedding_dim, hidden_dim, p_drop, n_layers):\n",
    "        super().__init__()\n",
    "        self.input_size = input_size\n",
    "        self.embedding_dim = embedding_dim\n",
    "        self.hidden_dim = hidden_dim\n",
    "        self.n_layers = n_layers\n",
    "        self.p_drop = p_drop\n",
    "        \n",
    "        self.embedding = nn.Embedding(input_size, embedding_dim)\n",
    "        self.lstm = nn.LSTM(embedding_dim, hidden_dim, n_layers, batch_first=True, dropout=p_drop)\n",
    "        self.dropout = nn.Dropout(p_drop)\n",
    "    \n",
    "    def init_hidden(self, batch_size):\n",
    "        weight = next(self.parameters()).data\n",
    "        hidden = (weight.new(self.n_layers, batch_size, self.hidden_dim).zero_().to(device),\n",
    "                  weight.new(self.n_layers, batch_size, self.hidden_dim).zero_().to(device))\n",
    "\n",
    "        \n",
    "        return hidden\n",
    "    \n",
    "    def forward(self, x, h):\n",
    "        #x: [batch_size, seq_len]\n",
    "        out = self.embedding(x)\n",
    "        #out: [batch_size, seq_len, embedding_dim]\n",
    "        out = self.dropout(out)\n",
    "        out, h = self.lstm(out, h)\n",
    "        return h\n"
   ]
  },
  {
   "cell_type": "code",
   "execution_count": 29,
   "metadata": {
    "ExecuteTime": {
     "end_time": "2021-06-09T17:29:34.793425Z",
     "start_time": "2021-06-09T17:29:31.633696Z"
    }
   },
   "outputs": [],
   "source": [
    "ENCODER_INPUT_SIZE = len(eng_vocal)\n",
    "ENCODER_EMBEDDING_DIM = 256\n",
    "HIDDEN_DIM = 512\n",
    "N_LAYERS = 2\n",
    "P_DROP = 0.5\n",
    "\n",
    "encoder = Encoder(ENCODER_INPUT_SIZE, ENCODER_EMBEDDING_DIM, HIDDEN_DIM,P_DROP, N_LAYERS)\n",
    "encoder = encoder.to(device)"
   ]
  },
  {
   "cell_type": "code",
   "execution_count": 30,
   "metadata": {
    "ExecuteTime": {
     "end_time": "2021-06-09T17:29:34.809420Z",
     "start_time": "2021-06-09T17:29:34.797423Z"
    }
   },
   "outputs": [],
   "source": [
    "\n",
    "# for x, y in train_loader:\n",
    "#     if torch.cuda.is_available():\n",
    "#         x = x.cuda()\n",
    "#         y = y.cuda()\n",
    "#     h = encoder.init_hidden(batch_size)\n",
    "#     out, h = encoder(x, h)\n",
    "#     print(h[0].size())\n",
    "#     break"
   ]
  },
  {
   "cell_type": "markdown",
   "metadata": {},
   "source": [
    "## Create Decoder model"
   ]
  },
  {
   "cell_type": "markdown",
   "metadata": {},
   "source": [
    "### the len of input in each lstm cell of decoder is 1, because we fetch only 1 word to predict the next word\n",
    "### i use teacher forcing to make convergence faster"
   ]
  },
  {
   "cell_type": "code",
   "execution_count": 31,
   "metadata": {
    "ExecuteTime": {
     "end_time": "2021-06-09T17:29:34.825455Z",
     "start_time": "2021-06-09T17:29:34.812418Z"
    }
   },
   "outputs": [],
   "source": [
    "class Decoder(nn.Module):\n",
    "    def __init__(self, output_size, embedding_dim, hidden_dim, p_drop, n_layers):\n",
    "        super().__init__()\n",
    "        self.output_size = output_size\n",
    "        self.embedding_dim = embedding_dim\n",
    "        self.hidden_dim = hidden_dim\n",
    "        self.p_drop = p_drop\n",
    "        self.n_layers = n_layers\n",
    "        \n",
    "        self.embedding = nn.Embedding(output_size, embedding_dim)\n",
    "        self.dropout = nn.Dropout(p=p_drop)\n",
    "        self.lstm = nn.LSTM(embedding_dim, hidden_dim, n_layers, batch_first=True, dropout = p_drop)\n",
    "        self.fc1 = nn.Linear(hidden_dim, output_size)\n",
    "    \n",
    "    def forward(self, x, h):\n",
    "        out = x.unsqueeze(1)\n",
    "        #out: [batch_size = 1, seq_len]\n",
    "        out = self.embedding(out)\n",
    "        #out: [1, seq_len, embedding_dim]\n",
    "        out = self.dropout(out)\n",
    "        out, h = self.lstm(out, h)\n",
    "        #out: [1, seq_len, hidden_dim]\n",
    "        out = out.reshape(-1, self.hidden_dim)\n",
    "        #out: [seq_len, hidden_dim]\n",
    "        out = self.fc1(out)\n",
    "        #out: [seq_len, output_size]\n",
    "        return out, h\n",
    "    \n"
   ]
  },
  {
   "cell_type": "code",
   "execution_count": 32,
   "metadata": {
    "ExecuteTime": {
     "end_time": "2021-06-09T17:29:35.237475Z",
     "start_time": "2021-06-09T17:29:34.827461Z"
    }
   },
   "outputs": [],
   "source": [
    "DECODER_OUTPUT_SIZE = len(vi_vocal)\n",
    "DECODER_EMBEDDING_DIM = 256\n",
    "HIDDEN_DIM = 512\n",
    "N_LAYERS = 2\n",
    "P_DROP = 0.5\n",
    "\n",
    "decoder = Decoder(DECODER_OUTPUT_SIZE, DECODER_EMBEDDING_DIM, HIDDEN_DIM,P_DROP, N_LAYERS)\n",
    "decoder = decoder.to(device)"
   ]
  },
  {
   "cell_type": "code",
   "execution_count": 33,
   "metadata": {
    "ExecuteTime": {
     "end_time": "2021-06-09T17:29:35.253455Z",
     "start_time": "2021-06-09T17:29:35.240422Z"
    }
   },
   "outputs": [],
   "source": [
    "# for x, y in train_loader:\n",
    "#     if torch.cuda.is_available():\n",
    "#         x = x.cuda()\n",
    "#         y = y.cuda()\n",
    "#     input =y[:,1]\n",
    "#     out1 = decoder(input, h)\n",
    "#     print(out1.size())\n",
    "# #     print(input[:,0].size())\n",
    "#     break"
   ]
  },
  {
   "cell_type": "code",
   "execution_count": 34,
   "metadata": {
    "ExecuteTime": {
     "end_time": "2021-06-09T17:29:35.269464Z",
     "start_time": "2021-06-09T17:29:35.255452Z"
    }
   },
   "outputs": [],
   "source": [
    "import random\n",
    "class Seq2Seq(nn.Module):\n",
    "    def __init__(self, encoder, decoder):\n",
    "        super().__init__()\n",
    "        self.encoder= encoder\n",
    "        self.decoder = decoder\n",
    "    \n",
    "    def forward(self, src, trg, teacher_forcing_ratio = 0.5):\n",
    "        trg_len = trg.size(1)\n",
    "        trg_batch = trg.size(0)\n",
    "        #tensor to store outputs\n",
    "        outputs = torch.zeros(trg_len, trg_batch, DECODER_OUTPUT_SIZE)\n",
    "        outputs = outputs.to(device)\n",
    "        hidden = self.encoder.init_hidden(trg_batch)\n",
    "        h = self.encoder(src, hidden)\n",
    "        #We use the first word of target data SOS to fetch into decoder\n",
    "        input = trg[:, 0]\n",
    "        \n",
    "        for i in range(1, trg_len):\n",
    "            output, h = self.decoder(input, h)\n",
    "            outputs[i] = output\n",
    "            teacher_force = random.random() < teacher_forcing_ratio\n",
    "            top1 = output.argmax(1) \n",
    "            input = trg[:,i] if teacher_force else top1\n",
    "        return outputs"
   ]
  },
  {
   "cell_type": "code",
   "execution_count": 35,
   "metadata": {
    "ExecuteTime": {
     "end_time": "2021-06-09T17:29:35.285419Z",
     "start_time": "2021-06-09T17:29:35.272426Z"
    }
   },
   "outputs": [
    {
     "data": {
      "text/plain": [
       "Seq2Seq(\n",
       "  (encoder): Encoder(\n",
       "    (embedding): Embedding(26990, 256)\n",
       "    (lstm): LSTM(256, 512, num_layers=2, batch_first=True, dropout=0.5)\n",
       "    (dropout): Dropout(p=0.5, inplace=False)\n",
       "  )\n",
       "  (decoder): Decoder(\n",
       "    (embedding): Embedding(20653, 256)\n",
       "    (dropout): Dropout(p=0.5, inplace=False)\n",
       "    (lstm): LSTM(256, 512, num_layers=2, batch_first=True, dropout=0.5)\n",
       "    (fc1): Linear(in_features=512, out_features=20653, bias=True)\n",
       "  )\n",
       ")"
      ]
     },
     "execution_count": 35,
     "metadata": {},
     "output_type": "execute_result"
    }
   ],
   "source": [
    "seq_model = Seq2Seq(encoder, decoder)\n",
    "seq_model = seq_model.to(device)\n",
    "seq_model"
   ]
  },
  {
   "cell_type": "code",
   "execution_count": 36,
   "metadata": {
    "ExecuteTime": {
     "end_time": "2021-06-09T17:29:35.301423Z",
     "start_time": "2021-06-09T17:29:35.287420Z"
    }
   },
   "outputs": [
    {
     "name": "stdout",
     "output_type": "stream",
     "text": [
      "The model has 30,148,013 trainable parameters\n"
     ]
    }
   ],
   "source": [
    "def count_parameters(model):\n",
    "    return sum(p.numel() for p in model.parameters() if p.requires_grad)\n",
    "\n",
    "print(f'The model has {count_parameters(seq_model):,} trainable parameters')"
   ]
  },
  {
   "cell_type": "code",
   "execution_count": 37,
   "metadata": {
    "ExecuteTime": {
     "end_time": "2021-06-09T17:29:35.317422Z",
     "start_time": "2021-06-09T17:29:35.304419Z"
    }
   },
   "outputs": [
    {
     "data": {
      "text/plain": [
       "4000"
      ]
     },
     "execution_count": 37,
     "metadata": {},
     "output_type": "execute_result"
    }
   ],
   "source": [
    "len(train_loader)"
   ]
  },
  {
   "cell_type": "markdown",
   "metadata": {},
   "source": [
    "# Train model"
   ]
  },
  {
   "cell_type": "code",
   "execution_count": 1,
   "metadata": {
    "ExecuteTime": {
     "end_time": "2021-06-10T17:34:24.654268Z",
     "start_time": "2021-06-10T17:34:24.642285Z"
    },
    "scrolled": true
   },
   "outputs": [],
   "source": [
    "lr = 0.001\n",
    "optimizer = torch.optim.Adam(seq_model.parameters(), lr=lr)\n",
    "criterion = nn.CrossEntropyLoss(ignore_index=0)\n",
    "clip = 5\n",
    "epouchs = 3\n",
    "\n",
    "train_loss_arr = []\n",
    "\n",
    "seq_model.train()\n",
    "#     model.eval()\n",
    "for epouch in range(epouchs):\n",
    "    epoch_loss = 0\n",
    "    count = 0\n",
    "    for x, y in train_loader:\n",
    "        x = x.to(device)\n",
    "        y = y.to(device)\n",
    "        optimizer.zero_grad()\n",
    "        batch = y.size(0)\n",
    "        output = seq_model(x, y)\n",
    "\n",
    "        output_dim = output.size(2)\n",
    "        output = output[1:].reshape(-1, output_dim)\n",
    "\n",
    "        y = y.reshape(-1, batch)\n",
    "        trg = y[1:].reshape(-1)\n",
    "\n",
    "        loss = criterion(output, trg.long().to(device))\n",
    "        loss.backward()\n",
    "        torch.nn.utils.clip_grad_norm_(seq_model.parameters(), clip)\n",
    "        optimizer.step()\n",
    "        epoch_loss += loss.item()\n",
    "#             if count % 100 ==0:\n",
    "        print(count)\n",
    "        count = count + 1\n",
    "    print(f'Epouch: {epouch + 1}, Train Loss: {epoch_loss / len(train_loader)}')\n",
    "    train_loss_arr.append(epoch_loss / len(train_loader))\n"
   ]
  },
  {
   "cell_type": "markdown",
   "metadata": {},
   "source": [
    "## Predict unseen sentence"
   ]
  },
  {
   "cell_type": "code",
   "execution_count": 4,
   "metadata": {
    "ExecuteTime": {
     "end_time": "2021-06-10T17:36:27.935900Z",
     "start_time": "2021-06-10T17:36:27.926898Z"
    }
   },
   "outputs": [
    {
     "data": {
      "text/plain": [
       "[1, 1571, 2730]"
      ]
     },
     "execution_count": 4,
     "metadata": {},
     "output_type": "execute_result"
    }
   ],
   "source": [
    "text = \"beautiful girl\"\n",
    "def predict(text, max_length):\n",
    "    text = \" \".join(['SOS', text, 'EOS'])\n",
    "    text = [eng1_encode_sent(text)]\n",
    "    text = pad_features(text, 40)\n",
    "    text = torch.from_numpy(np.array(text))\n",
    "\n",
    "    if torch.cuda.is_available():\n",
    "        text = text.cuda()\n",
    "    outputs = [vi_vocal.token2id['SOS']]\n",
    "    h = seq_model.encoder.init_hidden(1)\n",
    "    seq_model.eval()\n",
    "    with torch.no_grad():\n",
    "        h = seq_model.encoder(text, h)\n",
    "     \n",
    "    for i in range(max_length):\n",
    "        previous_word = torch.LongTensor([outputs[-1]]).cuda()\n",
    "        with torch.no_grad():\n",
    "            output, h = seq_model.decoder(previous_word, h)\n",
    "#             return output\n",
    "            best_guess = output.argmax(1).item()\n",
    "        outputs.append(best_guess)\n",
    "\n",
    "        Model predicts it's the end of the sentence\n",
    "        if output.argmax(1).item() == vi_vocal.token2id['EOS']:\n",
    "            break\n",
    "    \n",
    "    return outputs\n",
    "predict(text,2)"
   ]
  },
  {
   "cell_type": "code",
   "execution_count": 39,
   "metadata": {
    "ExecuteTime": {
     "end_time": "2021-06-09T18:37:31.108052Z",
     "start_time": "2021-06-09T18:37:31.091051Z"
    }
   },
   "outputs": [
    {
     "data": {
      "text/plain": [
       "[1571, 2730]"
      ]
     },
     "execution_count": 39,
     "metadata": {},
     "output_type": "execute_result"
    }
   ],
   "source": [
    "def eng1_encode_sent(sent):\n",
    "    new = [eng_vocal.token2id[word] for word in sent.split() if word in eng_vocal.token2id.keys()]\n",
    "    return new\n",
    "\n",
    "eng1_encode_sent(\"beautiful girl\")"
   ]
  }
 ],
 "metadata": {
  "kernelspec": {
   "display_name": "Pytorch (conda)",
   "language": "python",
   "name": "pytorch"
  },
  "language_info": {
   "codemirror_mode": {
    "name": "ipython",
    "version": 3
   },
   "file_extension": ".py",
   "mimetype": "text/x-python",
   "name": "python",
   "nbconvert_exporter": "python",
   "pygments_lexer": "ipython3",
   "version": "3.7.10"
  }
 },
 "nbformat": 4,
 "nbformat_minor": 4
}
