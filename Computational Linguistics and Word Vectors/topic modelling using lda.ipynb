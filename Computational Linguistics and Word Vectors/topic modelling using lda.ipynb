{
 "cells": [
  {
   "cell_type": "markdown",
   "id": "f2bd31fd",
   "metadata": {},
   "source": [
    "## If you want to download datasets and trained models for convenience, go to this [link](https://drive.google.com/drive/folders/1Ltqj8wiuXxrl1p_KzrzfaJkn2EDfI-M4?usp=sharing). Download file named lda topic modelling.zip and unzip it"
   ]
  },
  {
   "cell_type": "code",
   "execution_count": 2,
   "id": "b49840ad",
   "metadata": {
    "ExecuteTime": {
     "end_time": "2021-06-10T15:34:39.953237Z",
     "start_time": "2021-06-10T15:34:39.931289Z"
    }
   },
   "outputs": [],
   "source": [
    "%config IPCompleter.use_jedi = False"
   ]
  },
  {
   "cell_type": "code",
   "execution_count": 3,
   "id": "0bff1dd5",
   "metadata": {
    "ExecuteTime": {
     "end_time": "2021-06-10T15:34:46.113945Z",
     "start_time": "2021-06-10T15:34:40.735855Z"
    }
   },
   "outputs": [],
   "source": [
    "import pandas as pd\n",
    "import gensim\n",
    "import spacy\n",
    "import nltk\n",
    "from bs4 import BeautifulSoup\n",
    "import unidecode\n",
    "import re\n",
    "from nltk.corpus import stopwords\n",
    "from nltk.stem import WordNetLemmatizer\n",
    "from gensim.models import word2vec\n",
    "import numpy as np\n",
    "from nltk.corpus import stopwords\n",
    "\n",
    "import gensim.corpora as corpora\n",
    "from gensim import corpora, models, similarities\n",
    "from gensim.utils import simple_preprocess\n",
    "from gensim.models import CoherenceModel\n",
    "%run contractions.ipynb"
   ]
  },
  {
   "cell_type": "code",
   "execution_count": 3,
   "id": "9a2591f6",
   "metadata": {
    "ExecuteTime": {
     "end_time": "2021-05-24T02:55:58.322470Z",
     "start_time": "2021-05-24T02:55:58.117922Z"
    }
   },
   "outputs": [],
   "source": [
    "# df = pd.read_json('https://raw.githubusercontent.com/selva86/datasets/master/newsgroups.json')\n",
    "df = pd.read_json(\"D:/pytorch dataset and model/newsgroups.json\")"
   ]
  },
  {
   "cell_type": "code",
   "execution_count": 4,
   "id": "207e12a8",
   "metadata": {
    "ExecuteTime": {
     "end_time": "2021-06-10T15:34:59.692794Z",
     "start_time": "2021-06-10T15:34:59.673798Z"
    }
   },
   "outputs": [],
   "source": [
    "pd.set_option('display.max_colwidth', None)"
   ]
  },
  {
   "cell_type": "code",
   "execution_count": 5,
   "id": "95221e8d",
   "metadata": {
    "ExecuteTime": {
     "end_time": "2021-05-24T02:55:58.386446Z",
     "start_time": "2021-05-24T02:55:58.373445Z"
    }
   },
   "outputs": [],
   "source": [
    "content = df.content.values"
   ]
  },
  {
   "cell_type": "markdown",
   "id": "34bc301b",
   "metadata": {
    "ExecuteTime": {
     "end_time": "2021-05-21T06:43:32.705583Z",
     "start_time": "2021-05-21T06:43:32.684582Z"
    }
   },
   "source": [
    "# PREPROCESSING"
   ]
  },
  {
   "cell_type": "markdown",
   "id": "5727c3c3",
   "metadata": {},
   "source": [
    "## removing html tags and new line character"
   ]
  },
  {
   "cell_type": "code",
   "execution_count": 6,
   "id": "ed98b647",
   "metadata": {
    "ExecuteTime": {
     "end_time": "2021-05-24T02:55:58.402446Z",
     "start_time": "2021-05-24T02:55:58.389481Z"
    }
   },
   "outputs": [
    {
     "data": {
      "text/plain": [
       "\"From: lerxst@wam.umd.edu (where's my thing) Subject: WHAT car is this!? Nntp-Posting-Host: rac3.wam.umd.edu Organization: University of Maryland, College Park Lines: 15 I was wondering if anyone out there could enlighten me on this car I saw the other day. It was a 2-door sports car, looked to be from the late 60s/ early 70s. It was called a Bricklin. The doors were really small. In addition, the front bumper was separate from the rest of the body. This is all I know. If anyone can tellme a model name, engine specs, years of production, where this car is made, history, or whatever info you have on this funky looking car, please e-mail. Thanks, - IL ---- brought to you by your neighborhood Lerxst ---- \""
      ]
     },
     "execution_count": 6,
     "metadata": {},
     "output_type": "execute_result"
    }
   ],
   "source": [
    "raw_html = content[0]\n",
    "re.sub('\\s+', ' ', raw_html)"
   ]
  },
  {
   "cell_type": "code",
   "execution_count": 7,
   "id": "315f881e",
   "metadata": {
    "ExecuteTime": {
     "end_time": "2021-05-24T02:56:00.038715Z",
     "start_time": "2021-05-24T02:55:58.404446Z"
    },
    "scrolled": false
   },
   "outputs": [],
   "source": [
    "def removing_new_line(text):\n",
    "    text = re.sub('\\s+', ' ', text)\n",
    "    return text\n",
    "content = list(map(removing_new_line, content))"
   ]
  },
  {
   "cell_type": "code",
   "execution_count": 8,
   "id": "6f9d4782",
   "metadata": {
    "ExecuteTime": {
     "end_time": "2021-05-24T02:56:00.198032Z",
     "start_time": "2021-05-24T02:56:00.043999Z"
    }
   },
   "outputs": [],
   "source": [
    "def remove_accent_char(text):\n",
    "    res = unidecode.unidecode(text)\n",
    "    return res\n",
    "content = list(map(remove_accent_char, content))"
   ]
  },
  {
   "cell_type": "code",
   "execution_count": 9,
   "id": "bc2042d7",
   "metadata": {
    "ExecuteTime": {
     "end_time": "2021-05-24T02:56:06.878795Z",
     "start_time": "2021-05-24T02:56:00.201003Z"
    }
   },
   "outputs": [],
   "source": [
    "c_re = re.compile('(%s)' % '|'.join(CONTRACTION_MAP.keys()))\n",
    "def expand_contractions(s, contractions_dict=CONTRACTION_MAP):\n",
    "    def replace(match):\n",
    "        return contractions_dict[match.group(0)]\n",
    "    return c_re.sub(replace, s)\n",
    "content = list(map(expand_contractions, content))"
   ]
  },
  {
   "cell_type": "code",
   "execution_count": 10,
   "id": "33f029eb",
   "metadata": {
    "ExecuteTime": {
     "end_time": "2021-05-24T02:56:08.984420Z",
     "start_time": "2021-05-24T02:56:06.878795Z"
    }
   },
   "outputs": [],
   "source": [
    "def remove_email(text):\n",
    "    text = re.sub('\\S+@\\S+', ' ', text)\n",
    "    return text\n",
    "content = list(map(remove_email, content))"
   ]
  },
  {
   "cell_type": "code",
   "execution_count": 11,
   "id": "be0678da",
   "metadata": {
    "ExecuteTime": {
     "end_time": "2021-05-24T02:56:09.031406Z",
     "start_time": "2021-05-24T02:56:08.987406Z"
    }
   },
   "outputs": [],
   "source": [
    "content = list(map(lambda text: text.lower(), content))"
   ]
  },
  {
   "cell_type": "code",
   "execution_count": 12,
   "id": "988c538c",
   "metadata": {
    "ExecuteTime": {
     "end_time": "2021-05-24T02:56:09.833944Z",
     "start_time": "2021-05-24T02:56:09.033426Z"
    }
   },
   "outputs": [],
   "source": [
    "def remove_posting_host(text):\n",
    "    text = re.sub(r'\\bnntp\\S+\\s\\S+', ' ', text)\n",
    "    return text\n",
    "content = list(map(remove_posting_host, content))"
   ]
  },
  {
   "cell_type": "code",
   "execution_count": 13,
   "id": "15d977fc",
   "metadata": {
    "ExecuteTime": {
     "end_time": "2021-05-24T02:56:09.849946Z",
     "start_time": "2021-05-24T02:56:09.836962Z"
    }
   },
   "outputs": [],
   "source": [
    "df.content = content"
   ]
  },
  {
   "cell_type": "code",
   "execution_count": 15,
   "id": "be7b1c2b",
   "metadata": {
    "ExecuteTime": {
     "end_time": "2021-05-24T02:56:11.478143Z",
     "start_time": "2021-05-24T02:56:09.884941Z"
    }
   },
   "outputs": [],
   "source": [
    "def remove_subject(text):\n",
    "    text = re.sub(r'\\Afrom.+\\bre:', ' ', text)\n",
    "    text = re.sub(r'\\Afrom.+\\bsubject:', ' ', text)\n",
    "    return text\n",
    "content = list(map(remove_subject, content))"
   ]
  },
  {
   "cell_type": "code",
   "execution_count": null,
   "id": "3d308330",
   "metadata": {
    "ExecuteTime": {
     "end_time": "2021-05-21T14:26:46.073735Z",
     "start_time": "2021-05-21T14:26:46.044787Z"
    }
   },
   "outputs": [],
   "source": []
  },
  {
   "cell_type": "markdown",
   "id": "97cbd816",
   "metadata": {},
   "source": [
    "## remove sentences that its length is so much long (>5000)"
   ]
  },
  {
   "cell_type": "code",
   "execution_count": 16,
   "id": "3b87ad68",
   "metadata": {
    "ExecuteTime": {
     "end_time": "2021-05-24T02:56:11.493730Z",
     "start_time": "2021-05-24T02:56:11.478143Z"
    }
   },
   "outputs": [],
   "source": [
    "remove_arr = []\n",
    "for ind, cont in enumerate(df.target):\n",
    "    if cont == 2:\n",
    "        if len(content[ind]) > 5000:\n",
    "            remove_arr.append(ind)\n"
   ]
  },
  {
   "cell_type": "code",
   "execution_count": 17,
   "id": "89fe8a28",
   "metadata": {
    "ExecuteTime": {
     "end_time": "2021-05-24T02:56:11.541757Z",
     "start_time": "2021-05-24T02:56:11.495725Z"
    }
   },
   "outputs": [
    {
     "data": {
      "text/plain": [
       "11289"
      ]
     },
     "execution_count": 17,
     "metadata": {},
     "output_type": "execute_result"
    }
   ],
   "source": [
    "for ind, cont in enumerate(content):\n",
    "    if ind in remove_arr:\n",
    "        content.remove(cont)\n",
    "len(content)"
   ]
  },
  {
   "cell_type": "code",
   "execution_count": 18,
   "id": "058e2174",
   "metadata": {
    "ExecuteTime": {
     "end_time": "2021-05-24T02:56:12.351209Z",
     "start_time": "2021-05-24T02:56:11.544727Z"
    }
   },
   "outputs": [],
   "source": [
    "def remove_special_characters(text):\n",
    "    pattern = r'[^a-zA-Z\\s]'\n",
    "    text = re.sub(pattern, ' ', text)\n",
    "    return text\n",
    "content = list(map(remove_special_characters, content))"
   ]
  },
  {
   "cell_type": "code",
   "execution_count": 19,
   "id": "b84f6d66",
   "metadata": {
    "ExecuteTime": {
     "end_time": "2021-05-24T02:56:12.763666Z",
     "start_time": "2021-05-24T02:56:12.351209Z"
    }
   },
   "outputs": [],
   "source": [
    "def remove_spacing(text):\n",
    "    res = \" \".join(text.split())\n",
    "    return res\n",
    "content = list(map(remove_spacing, content))"
   ]
  },
  {
   "cell_type": "code",
   "execution_count": 5,
   "id": "47bd5b84",
   "metadata": {
    "ExecuteTime": {
     "end_time": "2021-06-10T16:00:13.478493Z",
     "start_time": "2021-06-10T16:00:13.463497Z"
    }
   },
   "outputs": [],
   "source": [
    "def tokenizer(text):\n",
    "    text = nltk.word_tokenize(text)\n",
    "    return text\n",
    "token_sent = list(map(tokenizer, content))"
   ]
  },
  {
   "cell_type": "code",
   "execution_count": null,
   "id": "b1ed32b5",
   "metadata": {
    "ExecuteTime": {
     "start_time": "2021-06-10T15:16:02.788Z"
    }
   },
   "outputs": [],
   "source": [
    "i =0\n",
    "tok_rm_sent = []\n",
    "for i in range(len(token_sent)):\n",
    "# def remove_stopwords(token_words):\n",
    "    tok_rm_sent.append([word for word in token_sent[i] if word not in set(stopwords.words(\"english\"))])\n",
    "    print(i)\n",
    "    i = i + 1\n",
    "# token_sent = list(map(remove_stopwords, token_sent))\n",
    "\n"
   ]
  },
  {
   "cell_type": "markdown",
   "id": "2574410a",
   "metadata": {},
   "source": [
    "## Save dataset after preprocessing"
   ]
  },
  {
   "cell_type": "code",
   "execution_count": 82,
   "id": "cab9bd0a",
   "metadata": {
    "ExecuteTime": {
     "end_time": "2021-05-24T04:03:39.301102Z",
     "start_time": "2021-05-24T04:03:39.061466Z"
    }
   },
   "outputs": [],
   "source": [
    "with open('my_file.txt', 'w') as filehandle:\n",
    "    for listitem in token_sent:\n",
    "        filehandle.write('%s\\n' % listitem)"
   ]
  },
  {
   "cell_type": "code",
   "execution_count": 88,
   "id": "1acc3c99",
   "metadata": {
    "ExecuteTime": {
     "end_time": "2021-05-24T04:04:42.211151Z",
     "start_time": "2021-05-24T04:04:42.108985Z"
    }
   },
   "outputs": [],
   "source": [
    "with open(\"my_file.txt\" , 'r') as f:\n",
    "    token_sent = f.readlines()"
   ]
  },
  {
   "cell_type": "markdown",
   "id": "54ceed80",
   "metadata": {},
   "source": [
    "## Tokenize sentences"
   ]
  },
  {
   "cell_type": "code",
   "execution_count": 6,
   "id": "41d69821",
   "metadata": {
    "ExecuteTime": {
     "end_time": "2021-06-10T16:00:31.407354Z",
     "start_time": "2021-06-10T16:00:31.401373Z"
    }
   },
   "outputs": [],
   "source": [
    "def removing_new_line(text):\n",
    "    text = re.sub('\\s+', ' ', text)\n",
    "    return text\n",
    "token_sent = list(map(removing_new_line, token_sent))\n",
    "def remove_spacing(text):\n",
    "    res = \" \".join(text.split())\n",
    "    return res\n",
    "token_sent = list(map(remove_spacing, token_sent))\n",
    "def tokenizer(text):\n",
    "    text = nltk.word_tokenize(text)\n",
    "    return text\n",
    "token_sent = list(map(tokenizer, token_sent))"
   ]
  },
  {
   "cell_type": "markdown",
   "id": "c0fd2eec",
   "metadata": {},
   "source": [
    "## Make bigram and trigram model"
   ]
  },
  {
   "cell_type": "code",
   "execution_count": 108,
   "id": "5a7dbba2",
   "metadata": {
    "ExecuteTime": {
     "end_time": "2021-05-24T04:45:50.368131Z",
     "start_time": "2021-05-24T04:45:27.100783Z"
    }
   },
   "outputs": [],
   "source": [
    "bigram = gensim.models.Phrases(token_sent, min_count=5, threshold=10) # higher threshold fewer phrases.\n",
    "trigram = gensim.models.Phrases(bigram[token_sent], threshold=10)  "
   ]
  },
  {
   "cell_type": "code",
   "execution_count": 111,
   "id": "b5bffb9b",
   "metadata": {
    "ExecuteTime": {
     "end_time": "2021-05-24T09:04:50.304962Z",
     "start_time": "2021-05-24T09:03:57.308172Z"
    }
   },
   "outputs": [],
   "source": [
    "bigram_mod = gensim.models.phrases.Phraser(bigram)\n",
    "trigram_mod = gensim.models.phrases.Phraser(trigram)"
   ]
  },
  {
   "cell_type": "code",
   "execution_count": 121,
   "id": "c907faaf",
   "metadata": {
    "ExecuteTime": {
     "end_time": "2021-05-24T09:31:33.806338Z",
     "start_time": "2021-05-24T09:31:33.800351Z"
    }
   },
   "outputs": [],
   "source": [
    "def make_bigram(text):\n",
    "    return bigram_mod[text]"
   ]
  },
  {
   "cell_type": "code",
   "execution_count": 126,
   "id": "4db69dbe",
   "metadata": {
    "ExecuteTime": {
     "end_time": "2021-05-24T09:39:50.872852Z",
     "start_time": "2021-05-24T09:39:42.266527Z"
    }
   },
   "outputs": [],
   "source": [
    "bigram_sent = list(map(make_bigram, token_sent))"
   ]
  },
  {
   "cell_type": "code",
   "execution_count": 131,
   "id": "891315e0",
   "metadata": {
    "ExecuteTime": {
     "end_time": "2021-05-24T09:45:19.727725Z",
     "start_time": "2021-05-24T09:45:07.852379Z"
    }
   },
   "outputs": [],
   "source": [
    "lemmatizer = WordNetLemmatizer()\n",
    "def lemmatize_text(text):\n",
    "    text = [lemmatizer.lemmatize(word) for word in text]\n",
    "    return text\n",
    "bigram_sent = list(map(lemmatize_text, bigram_sent))"
   ]
  },
  {
   "cell_type": "markdown",
   "id": "b343bea8",
   "metadata": {
    "ExecuteTime": {
     "end_time": "2021-05-24T09:53:01.027716Z",
     "start_time": "2021-05-24T09:52:57.462692Z"
    }
   },
   "source": [
    "## Create id2Word Dictionary"
   ]
  },
  {
   "cell_type": "code",
   "execution_count": 135,
   "id": "fefe35e1",
   "metadata": {
    "ExecuteTime": {
     "end_time": "2021-05-24T09:53:36.914320Z",
     "start_time": "2021-05-24T09:53:33.334707Z"
    }
   },
   "outputs": [
    {
     "data": {
      "text/plain": [
       "<gensim.corpora.dictionary.Dictionary at 0x1bcd5cb8c88>"
      ]
     },
     "execution_count": 135,
     "metadata": {},
     "output_type": "execute_result"
    }
   ],
   "source": [
    "id2Word = corpora.Dictionary(bigram_sent)\n",
    "id2Word"
   ]
  },
  {
   "cell_type": "code",
   "execution_count": 144,
   "id": "5c6e7e42",
   "metadata": {
    "ExecuteTime": {
     "end_time": "2021-05-24T09:58:28.782994Z",
     "start_time": "2021-05-24T09:58:28.768014Z"
    }
   },
   "outputs": [],
   "source": [
    "corpus = [id2Word.doc2bow(text) for text in bigram_sent]"
   ]
  },
  {
   "cell_type": "markdown",
   "id": "0c639690",
   "metadata": {},
   "source": [
    "## Create lda model"
   ]
  },
  {
   "cell_type": "code",
   "execution_count": 145,
   "id": "3b6eb023",
   "metadata": {
    "ExecuteTime": {
     "end_time": "2021-05-24T10:15:15.552534Z",
     "start_time": "2021-05-24T10:06:58.639709Z"
    }
   },
   "outputs": [
    {
     "data": {
      "text/plain": [
       "<gensim.models.ldamodel.LdaModel at 0x1bce0304f08>"
      ]
     },
     "execution_count": 145,
     "metadata": {},
     "output_type": "execute_result"
    }
   ],
   "source": [
    "lda_model = gensim.models.ldamodel.LdaModel(corpus=corpus,\n",
    "                                           id2word=id2Word,\n",
    "                                           num_topics=20, \n",
    "                                           random_state=42,\n",
    "                                           update_every=1,\n",
    "                                           chunksize=100,\n",
    "                                           passes=10,\n",
    "                                           alpha='auto',\n",
    "                                           per_word_topics=True)\n",
    "lda_model"
   ]
  },
  {
   "cell_type": "code",
   "execution_count": 4,
   "id": "34a1c3c3",
   "metadata": {
    "ExecuteTime": {
     "end_time": "2021-06-10T14:17:42.886044Z",
     "start_time": "2021-06-10T14:17:42.880058Z"
    }
   },
   "outputs": [],
   "source": [
    "modelname = \"lda_model\"\n",
    "# lda_model.save(modelname)"
   ]
  },
  {
   "cell_type": "code",
   "execution_count": 5,
   "id": "bb89c485",
   "metadata": {
    "ExecuteTime": {
     "end_time": "2021-06-10T14:17:45.312009Z",
     "start_time": "2021-06-10T14:17:44.883013Z"
    }
   },
   "outputs": [
    {
     "data": {
      "text/plain": [
       "<gensim.models.ldamodel.LdaModel at 0x2a3e944b548>"
      ]
     },
     "execution_count": 5,
     "metadata": {},
     "output_type": "execute_result"
    }
   ],
   "source": [
    "lda_model = models.LdaModel.load(modelname)\n",
    "lda_model"
   ]
  },
  {
   "cell_type": "code",
   "execution_count": 14,
   "id": "c772bfb6",
   "metadata": {
    "ExecuteTime": {
     "end_time": "2021-06-10T14:27:11.167447Z",
     "start_time": "2021-06-10T14:27:11.137466Z"
    },
    "scrolled": true
   },
   "outputs": [
    {
     "data": {
      "text/plain": [
       "[(8,\n",
       "  '0.047*\"cheap\" + 0.034*\"brown\" + 0.025*\"specification\" + 0.016*\"worried\" + 0.014*\"catalog\" + 0.014*\"import\" + 0.012*\"waste\" + 0.011*\"ab\" + 0.009*\"tech_support\" + 0.009*\"orange\"'),\n",
       " (11,\n",
       "  '0.024*\"people\" + 0.015*\"one\" + 0.015*\"god\" + 0.012*\"say\" + 0.012*\"would\" + 0.010*\"think\" + 0.010*\"mean\" + 0.009*\"believe\" + 0.009*\"fact\" + 0.008*\"may\"'),\n",
       " (5,\n",
       "  '0.023*\"would\" + 0.020*\"one\" + 0.018*\"writes\" + 0.015*\"get\" + 0.014*\"organization\" + 0.012*\"like\" + 0.012*\"line\" + 0.011*\"know\" + 0.010*\"time\" + 0.010*\"could\"')]"
      ]
     },
     "execution_count": 14,
     "metadata": {},
     "output_type": "execute_result"
    }
   ],
   "source": [
    "lda_model.print_topics(3)"
   ]
  },
  {
   "cell_type": "markdown",
   "id": "4265705f",
   "metadata": {},
   "source": [
    "## Perplexity: a measure of how good the model is. lower the better."
   ]
  },
  {
   "cell_type": "code",
   "execution_count": 156,
   "id": "c4af011e",
   "metadata": {
    "ExecuteTime": {
     "end_time": "2021-05-24T10:27:51.784809Z",
     "start_time": "2021-05-24T10:27:34.180122Z"
    }
   },
   "outputs": [
    {
     "name": "stdout",
     "output_type": "stream",
     "text": [
      "\n",
      "Perplexity:  -17.033826500085\n"
     ]
    }
   ],
   "source": [
    "print('\\nPerplexity: ', lda_model.log_perplexity(corpus))"
   ]
  },
  {
   "cell_type": "code",
   "execution_count": 159,
   "id": "7689fbed",
   "metadata": {
    "ExecuteTime": {
     "end_time": "2021-05-24T10:33:28.214019Z",
     "start_time": "2021-05-24T10:32:41.684554Z"
    }
   },
   "outputs": [
    {
     "name": "stdout",
     "output_type": "stream",
     "text": [
      "\n",
      "Coherence Score:  0.48978657899913614\n"
     ]
    }
   ],
   "source": [
    "coherence_model_lda = CoherenceModel(model=lda_model, texts=bigram_sent, dictionary=id2Word, coherence='c_v')\n",
    "coherence_lda = coherence_model_lda.get_coherence()\n",
    "print('\\nCoherence Score: ', coherence_lda)"
   ]
  },
  {
   "cell_type": "code",
   "execution_count": null,
   "id": "ba2b8418",
   "metadata": {},
   "outputs": [],
   "source": []
  }
 ],
 "metadata": {
  "kernelspec": {
   "display_name": "Pytorch (conda)",
   "language": "python",
   "name": "pytorch"
  },
  "language_info": {
   "codemirror_mode": {
    "name": "ipython",
    "version": 3
   },
   "file_extension": ".py",
   "mimetype": "text/x-python",
   "name": "python",
   "nbconvert_exporter": "python",
   "pygments_lexer": "ipython3",
   "version": "3.7.10"
  }
 },
 "nbformat": 4,
 "nbformat_minor": 5
}
