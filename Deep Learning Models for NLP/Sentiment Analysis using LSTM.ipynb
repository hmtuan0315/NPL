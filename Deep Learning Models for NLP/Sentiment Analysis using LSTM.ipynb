{
 "cells": [
  {
   "cell_type": "markdown",
   "id": "0eed9324",
   "metadata": {},
   "source": [
    "# If you want to download datasets and trained models, go to this [link](https://drive.google.com/drive/folders/1Ltqj8wiuXxrl1p_KzrzfaJkn2EDfI-M4?usp=sharing). Download file named sentiment analysys using lstm.zip and unzip it"
   ]
  },
  {
   "cell_type": "code",
   "execution_count": 1,
   "id": "338ec68e",
   "metadata": {
    "ExecuteTime": {
     "end_time": "2021-05-28T05:45:46.492852Z",
     "start_time": "2021-05-28T05:45:46.466919Z"
    }
   },
   "outputs": [],
   "source": [
    "%config IPCompleter.use_jedi = False"
   ]
  },
  {
   "cell_type": "code",
   "execution_count": 2,
   "id": "88b99fee",
   "metadata": {
    "ExecuteTime": {
     "end_time": "2021-05-31T17:46:49.043548Z",
     "start_time": "2021-05-31T17:46:43.338597Z"
    }
   },
   "outputs": [],
   "source": [
    "import pandas as pd\n",
    "from bs4 import BeautifulSoup\n",
    "import re\n",
    "import gensim\n",
    "from gensim import corpora\n",
    "import matplotlib.pyplot as plt\n",
    "import torch\n",
    "import numpy as np\n",
    "%run ../Utils.ipynb"
   ]
  },
  {
   "cell_type": "code",
   "execution_count": 3,
   "id": "0f41a187",
   "metadata": {
    "ExecuteTime": {
     "end_time": "2021-05-27T08:05:15.559591Z",
     "start_time": "2021-05-27T08:05:14.774273Z"
    },
    "scrolled": true
   },
   "outputs": [
    {
     "data": {
      "text/html": [
       "<div>\n",
       "<style scoped>\n",
       "    .dataframe tbody tr th:only-of-type {\n",
       "        vertical-align: middle;\n",
       "    }\n",
       "\n",
       "    .dataframe tbody tr th {\n",
       "        vertical-align: top;\n",
       "    }\n",
       "\n",
       "    .dataframe thead th {\n",
       "        text-align: right;\n",
       "    }\n",
       "</style>\n",
       "<table border=\"1\" class=\"dataframe\">\n",
       "  <thead>\n",
       "    <tr style=\"text-align: right;\">\n",
       "      <th></th>\n",
       "      <th>review</th>\n",
       "      <th>sentiment</th>\n",
       "    </tr>\n",
       "  </thead>\n",
       "  <tbody>\n",
       "    <tr>\n",
       "      <th>0</th>\n",
       "      <td>One of the other reviewers has mentioned that after watching just 1 Oz episode you'll be hooked. They are right, as this is exactly what happened with me.&lt;br /&gt;&lt;br /&gt;The first thing that struck me about Oz was its brutality and unflinching scenes of violence, which set in right from the word GO. Trust me, this is not a show for the faint hearted or timid. This show pulls no punches with regards to drugs, sex or violence. Its is hardcore, in the classic use of the word.&lt;br /&gt;&lt;br /&gt;It is called OZ as that is the nickname given to the Oswald Maximum Security State Penitentary. It focuses mainly on Emerald City, an experimental section of the prison where all the cells have glass fronts and face inwards, so privacy is not high on the agenda. Em City is home to many..Aryans, Muslims, gangstas, Latinos, Christians, Italians, Irish and more....so scuffles, death stares, dodgy dealings and shady agreements are never far away.&lt;br /&gt;&lt;br /&gt;I would say the main appeal of the show is due to the fact that it goes where other shows wouldn't dare. Forget pretty pictures painted for mainstream audiences, forget charm, forget romance...OZ doesn't mess around. The first episode I ever saw struck me as so nasty it was surreal, I couldn't say I was ready for it, but as I watched more, I developed a taste for Oz, and got accustomed to the high levels of graphic violence. Not just violence, but injustice (crooked guards who'll be sold out for a nickel, inmates who'll kill on order and get away with it, well mannered, middle class inmates being turned into prison bitches due to their lack of street skills or prison experience) Watching Oz, you may become comfortable with what is uncomfortable viewing....thats if you can get in touch with your darker side.</td>\n",
       "      <td>positive</td>\n",
       "    </tr>\n",
       "    <tr>\n",
       "      <th>1</th>\n",
       "      <td>A wonderful little production. &lt;br /&gt;&lt;br /&gt;The filming technique is very unassuming- very old-time-BBC fashion and gives a comforting, and sometimes discomforting, sense of realism to the entire piece. &lt;br /&gt;&lt;br /&gt;The actors are extremely well chosen- Michael Sheen not only \"has got all the polari\" but he has all the voices down pat too! You can truly see the seamless editing guided by the references to Williams' diary entries, not only is it well worth the watching but it is a terrificly written and performed piece. A masterful production about one of the great master's of comedy and his life. &lt;br /&gt;&lt;br /&gt;The realism really comes home with the little things: the fantasy of the guard which, rather than use the traditional 'dream' techniques remains solid then disappears. It plays on our knowledge and our senses, particularly with the scenes concerning Orton and Halliwell and the sets (particularly of their flat with Halliwell's murals decorating every surface) are terribly well done.</td>\n",
       "      <td>positive</td>\n",
       "    </tr>\n",
       "    <tr>\n",
       "      <th>2</th>\n",
       "      <td>I thought this was a wonderful way to spend time on a too hot summer weekend, sitting in the air conditioned theater and watching a light-hearted comedy. The plot is simplistic, but the dialogue is witty and the characters are likable (even the well bread suspected serial killer). While some may be disappointed when they realize this is not Match Point 2: Risk Addiction, I thought it was proof that Woody Allen is still fully in control of the style many of us have grown to love.&lt;br /&gt;&lt;br /&gt;This was the most I'd laughed at one of Woody's comedies in years (dare I say a decade?). While I've never been impressed with Scarlet Johanson, in this she managed to tone down her \"sexy\" image and jumped right into a average, but spirited young woman.&lt;br /&gt;&lt;br /&gt;This may not be the crown jewel of his career, but it was wittier than \"Devil Wears Prada\" and more interesting than \"Superman\" a great comedy to go see with friends.</td>\n",
       "      <td>positive</td>\n",
       "    </tr>\n",
       "    <tr>\n",
       "      <th>3</th>\n",
       "      <td>Basically there's a family where a little boy (Jake) thinks there's a zombie in his closet &amp; his parents are fighting all the time.&lt;br /&gt;&lt;br /&gt;This movie is slower than a soap opera... and suddenly, Jake decides to become Rambo and kill the zombie.&lt;br /&gt;&lt;br /&gt;OK, first of all when you're going to make a film you must Decide if its a thriller or a drama! As a drama the movie is watchable. Parents are divorcing &amp; arguing like in real life. And then we have Jake with his closet which totally ruins all the film! I expected to see a BOOGEYMAN similar movie, and instead i watched a drama with some meaningless thriller spots.&lt;br /&gt;&lt;br /&gt;3 out of 10 just for the well playing parents &amp; descent dialogs. As for the shots with Jake: just ignore them.</td>\n",
       "      <td>negative</td>\n",
       "    </tr>\n",
       "    <tr>\n",
       "      <th>4</th>\n",
       "      <td>Petter Mattei's \"Love in the Time of Money\" is a visually stunning film to watch. Mr. Mattei offers us a vivid portrait about human relations. This is a movie that seems to be telling us what money, power and success do to people in the different situations we encounter. &lt;br /&gt;&lt;br /&gt;This being a variation on the Arthur Schnitzler's play about the same theme, the director transfers the action to the present time New York where all these different characters meet and connect. Each one is connected in one way, or another to the next person, but no one seems to know the previous point of contact. Stylishly, the film has a sophisticated luxurious look. We are taken to see how these people live and the world they live in their own habitat.&lt;br /&gt;&lt;br /&gt;The only thing one gets out of all these souls in the picture is the different stages of loneliness each one inhabits. A big city is not exactly the best place in which human relations find sincere fulfillment, as one discerns is the case with most of the people we encounter.&lt;br /&gt;&lt;br /&gt;The acting is good under Mr. Mattei's direction. Steve Buscemi, Rosario Dawson, Carol Kane, Michael Imperioli, Adrian Grenier, and the rest of the talented cast, make these characters come alive.&lt;br /&gt;&lt;br /&gt;We wish Mr. Mattei good luck and await anxiously for his next work.</td>\n",
       "      <td>positive</td>\n",
       "    </tr>\n",
       "  </tbody>\n",
       "</table>\n",
       "</div>"
      ],
      "text/plain": [
       "                                                                                                                                                                                                                                                                                                                                                                                                                                                                                                                                                                                                                                                                                                                                                                                                                                                                                                                                                                                                                                                                                                                                                                                                                                                                                                                                                                                                                                                                                                                                                                                                                                                                                                                                                                                                                              review  \\\n",
       "0  One of the other reviewers has mentioned that after watching just 1 Oz episode you'll be hooked. They are right, as this is exactly what happened with me.<br /><br />The first thing that struck me about Oz was its brutality and unflinching scenes of violence, which set in right from the word GO. Trust me, this is not a show for the faint hearted or timid. This show pulls no punches with regards to drugs, sex or violence. Its is hardcore, in the classic use of the word.<br /><br />It is called OZ as that is the nickname given to the Oswald Maximum Security State Penitentary. It focuses mainly on Emerald City, an experimental section of the prison where all the cells have glass fronts and face inwards, so privacy is not high on the agenda. Em City is home to many..Aryans, Muslims, gangstas, Latinos, Christians, Italians, Irish and more....so scuffles, death stares, dodgy dealings and shady agreements are never far away.<br /><br />I would say the main appeal of the show is due to the fact that it goes where other shows wouldn't dare. Forget pretty pictures painted for mainstream audiences, forget charm, forget romance...OZ doesn't mess around. The first episode I ever saw struck me as so nasty it was surreal, I couldn't say I was ready for it, but as I watched more, I developed a taste for Oz, and got accustomed to the high levels of graphic violence. Not just violence, but injustice (crooked guards who'll be sold out for a nickel, inmates who'll kill on order and get away with it, well mannered, middle class inmates being turned into prison bitches due to their lack of street skills or prison experience) Watching Oz, you may become comfortable with what is uncomfortable viewing....thats if you can get in touch with your darker side.   \n",
       "1                                                                                                                                                                                                                                                                                                                                                                                                                                                                                                                                                                                                                                                                                                                                                                                             A wonderful little production. <br /><br />The filming technique is very unassuming- very old-time-BBC fashion and gives a comforting, and sometimes discomforting, sense of realism to the entire piece. <br /><br />The actors are extremely well chosen- Michael Sheen not only \"has got all the polari\" but he has all the voices down pat too! You can truly see the seamless editing guided by the references to Williams' diary entries, not only is it well worth the watching but it is a terrificly written and performed piece. A masterful production about one of the great master's of comedy and his life. <br /><br />The realism really comes home with the little things: the fantasy of the guard which, rather than use the traditional 'dream' techniques remains solid then disappears. It plays on our knowledge and our senses, particularly with the scenes concerning Orton and Halliwell and the sets (particularly of their flat with Halliwell's murals decorating every surface) are terribly well done.   \n",
       "2                                                                                                                                                                                                                                                                                                                                                                                                                                                                                                                                                                                                                                                                                                                                                                                                                                                                     I thought this was a wonderful way to spend time on a too hot summer weekend, sitting in the air conditioned theater and watching a light-hearted comedy. The plot is simplistic, but the dialogue is witty and the characters are likable (even the well bread suspected serial killer). While some may be disappointed when they realize this is not Match Point 2: Risk Addiction, I thought it was proof that Woody Allen is still fully in control of the style many of us have grown to love.<br /><br />This was the most I'd laughed at one of Woody's comedies in years (dare I say a decade?). While I've never been impressed with Scarlet Johanson, in this she managed to tone down her \"sexy\" image and jumped right into a average, but spirited young woman.<br /><br />This may not be the crown jewel of his career, but it was wittier than \"Devil Wears Prada\" and more interesting than \"Superman\" a great comedy to go see with friends.   \n",
       "3                                                                                                                                                                                                                                                                                                                                                                                                                                                                                                                                                                                                                                                                                                                                                                                                                                                                                                                                                                                                                                                       Basically there's a family where a little boy (Jake) thinks there's a zombie in his closet & his parents are fighting all the time.<br /><br />This movie is slower than a soap opera... and suddenly, Jake decides to become Rambo and kill the zombie.<br /><br />OK, first of all when you're going to make a film you must Decide if its a thriller or a drama! As a drama the movie is watchable. Parents are divorcing & arguing like in real life. And then we have Jake with his closet which totally ruins all the film! I expected to see a BOOGEYMAN similar movie, and instead i watched a drama with some meaningless thriller spots.<br /><br />3 out of 10 just for the well playing parents & descent dialogs. As for the shots with Jake: just ignore them.   \n",
       "4                                                                                                                                                                                                                                                                                                                                                                                                                                                              Petter Mattei's \"Love in the Time of Money\" is a visually stunning film to watch. Mr. Mattei offers us a vivid portrait about human relations. This is a movie that seems to be telling us what money, power and success do to people in the different situations we encounter. <br /><br />This being a variation on the Arthur Schnitzler's play about the same theme, the director transfers the action to the present time New York where all these different characters meet and connect. Each one is connected in one way, or another to the next person, but no one seems to know the previous point of contact. Stylishly, the film has a sophisticated luxurious look. We are taken to see how these people live and the world they live in their own habitat.<br /><br />The only thing one gets out of all these souls in the picture is the different stages of loneliness each one inhabits. A big city is not exactly the best place in which human relations find sincere fulfillment, as one discerns is the case with most of the people we encounter.<br /><br />The acting is good under Mr. Mattei's direction. Steve Buscemi, Rosario Dawson, Carol Kane, Michael Imperioli, Adrian Grenier, and the rest of the talented cast, make these characters come alive.<br /><br />We wish Mr. Mattei good luck and await anxiously for his next work.   \n",
       "\n",
       "  sentiment  \n",
       "0  positive  \n",
       "1  positive  \n",
       "2  positive  \n",
       "3  negative  \n",
       "4  positive  "
      ]
     },
     "execution_count": 3,
     "metadata": {},
     "output_type": "execute_result"
    }
   ],
   "source": [
    "df = pd.read_csv(r\"D:\\IMDB Dataset.csv\")\n",
    "pd.set_option('display.max_colwidth', None)\n",
    "review = df.review\n",
    "df.head()"
   ]
  },
  {
   "cell_type": "markdown",
   "id": "4604e713",
   "metadata": {},
   "source": [
    "## I use functions from file Utils.ipynb which contains functions for preprocessing"
   ]
  },
  {
   "cell_type": "code",
   "execution_count": 4,
   "id": "6c9682dd",
   "metadata": {
    "ExecuteTime": {
     "end_time": "2021-05-27T08:05:47.168314Z",
     "start_time": "2021-05-27T08:05:15.562554Z"
    }
   },
   "outputs": [],
   "source": [
    "review = list(map(remove_html_tag, review))"
   ]
  },
  {
   "cell_type": "code",
   "execution_count": 5,
   "id": "8f25d851",
   "metadata": {
    "ExecuteTime": {
     "end_time": "2021-05-27T08:05:52.927901Z",
     "start_time": "2021-05-27T08:05:47.170329Z"
    }
   },
   "outputs": [],
   "source": [
    "review = list(map(remove_accent_char, review))"
   ]
  },
  {
   "cell_type": "code",
   "execution_count": 6,
   "id": "e479be5e",
   "metadata": {
    "ExecuteTime": {
     "end_time": "2021-05-27T08:06:17.536763Z",
     "start_time": "2021-05-27T08:05:52.930909Z"
    }
   },
   "outputs": [],
   "source": [
    "review = list(map(expand_contractions, review))"
   ]
  },
  {
   "cell_type": "code",
   "execution_count": 7,
   "id": "af97ba47",
   "metadata": {
    "ExecuteTime": {
     "end_time": "2021-05-27T08:06:19.102760Z",
     "start_time": "2021-05-27T08:06:17.538785Z"
    }
   },
   "outputs": [],
   "source": [
    "review = list(map(remove_special_characters, review))"
   ]
  },
  {
   "cell_type": "code",
   "execution_count": 1,
   "id": "1d29897c",
   "metadata": {
    "ExecuteTime": {
     "end_time": "2021-06-10T16:43:04.187498Z",
     "start_time": "2021-06-10T16:43:04.174463Z"
    }
   },
   "outputs": [],
   "source": [
    "review = tokenizer_and_lemmatizer(review)"
   ]
  },
  {
   "cell_type": "code",
   "execution_count": 12,
   "id": "d1a260ef",
   "metadata": {
    "ExecuteTime": {
     "end_time": "2021-05-27T08:26:17.578036Z",
     "start_time": "2021-05-27T08:26:17.440046Z"
    }
   },
   "outputs": [],
   "source": [
    "review = list(map(lambda text: text.lower(), review))"
   ]
  },
  {
   "cell_type": "code",
   "execution_count": 13,
   "id": "8a1d0cf9",
   "metadata": {
    "ExecuteTime": {
     "end_time": "2021-05-27T08:26:24.650039Z",
     "start_time": "2021-05-27T08:26:24.570083Z"
    }
   },
   "outputs": [],
   "source": [
    "df.review =review"
   ]
  },
  {
   "cell_type": "markdown",
   "id": "b7d062e8",
   "metadata": {},
   "source": [
    "## Save and load review text after preprocessing"
   ]
  },
  {
   "cell_type": "code",
   "execution_count": 71,
   "id": "fa5b1844",
   "metadata": {
    "ExecuteTime": {
     "end_time": "2021-05-28T08:59:35.876271Z",
     "start_time": "2021-05-28T08:59:35.868237Z"
    }
   },
   "outputs": [],
   "source": [
    "# df.to_csv(r\"C:\\Users\\Hp\\Downloads\\NLP learning path\\Deep Learning Models for NLP\\idbm review.csv\", index=False)"
   ]
  },
  {
   "cell_type": "code",
   "execution_count": 70,
   "id": "9d3b633b",
   "metadata": {
    "ExecuteTime": {
     "end_time": "2021-05-28T08:59:34.272207Z",
     "start_time": "2021-05-28T08:59:31.740208Z"
    }
   },
   "outputs": [],
   "source": [
    "df = pd.read_csv(r\"C:\\Users\\Hp\\Downloads\\NLP learning path\\Deep Learning Models for NLP\\idbm review.csv\")\n",
    "review = df.review"
   ]
  },
  {
   "cell_type": "code",
   "execution_count": 72,
   "id": "5a9f8e6b",
   "metadata": {
    "ExecuteTime": {
     "end_time": "2021-05-28T09:00:39.940202Z",
     "start_time": "2021-05-28T08:59:36.532222Z"
    }
   },
   "outputs": [],
   "source": [
    "review = list(map(tokenizer, review))"
   ]
  },
  {
   "cell_type": "markdown",
   "id": "664e0a36",
   "metadata": {},
   "source": [
    "## I use stopword in nltk, but some of them have impact in sentiment analysis so i remove them from stopword list"
   ]
  },
  {
   "cell_type": "code",
   "execution_count": 73,
   "id": "a7caac78",
   "metadata": {
    "ExecuteTime": {
     "end_time": "2021-05-28T09:00:39.955204Z",
     "start_time": "2021-05-28T09:00:39.944205Z"
    }
   },
   "outputs": [],
   "source": [
    "new_stopwords = set(stopwords.words('english')) - {'not', 'such', 'up', 'down', 'too', 'against', 'only'}"
   ]
  },
  {
   "cell_type": "code",
   "execution_count": 74,
   "id": "9ff8ab8a",
   "metadata": {
    "ExecuteTime": {
     "end_time": "2021-05-28T09:00:43.501201Z",
     "start_time": "2021-05-28T09:00:39.958202Z"
    }
   },
   "outputs": [],
   "source": [
    "def remove_stopword(text):\n",
    "    text = [word for word in text if word not in new_stopwords]\n",
    "    return text\n",
    "review = list(map(remove_stopword, review))"
   ]
  },
  {
   "cell_type": "markdown",
   "id": "b81a3165",
   "metadata": {},
   "source": [
    "## Create word2index dictionary for encoding sentences"
   ]
  },
  {
   "cell_type": "code",
   "execution_count": 75,
   "id": "e849221b",
   "metadata": {
    "ExecuteTime": {
     "end_time": "2021-05-28T09:01:01.437200Z",
     "start_time": "2021-05-28T09:00:43.504202Z"
    }
   },
   "outputs": [],
   "source": [
    "word2index = corpora.Dictionary(review)"
   ]
  },
  {
   "cell_type": "code",
   "execution_count": 9,
   "id": "a553daab",
   "metadata": {
    "ExecuteTime": {
     "end_time": "2021-05-28T05:47:31.185856Z",
     "start_time": "2021-05-28T05:47:25.204857Z"
    }
   },
   "outputs": [],
   "source": [
    "def encode_sent(sent):\n",
    "    sent = [word2index.token2id[word] for word in sent if word in word2index.token2id.keys()]\n",
    "    return sent\n",
    "encoded_review = list(map(encode_sent, review))"
   ]
  },
  {
   "cell_type": "code",
   "execution_count": 10,
   "id": "d550eb9a",
   "metadata": {
    "ExecuteTime": {
     "end_time": "2021-05-28T05:47:31.201857Z",
     "start_time": "2021-05-28T05:47:31.188856Z"
    }
   },
   "outputs": [],
   "source": [
    "review_len = [len(sent) for sent in encoded_review]"
   ]
  },
  {
   "cell_type": "code",
   "execution_count": 11,
   "id": "5406901a",
   "metadata": {
    "ExecuteTime": {
     "end_time": "2021-05-28T05:47:31.265876Z",
     "start_time": "2021-05-28T05:47:31.205859Z"
    }
   },
   "outputs": [
    {
     "data": {
      "text/plain": [
       "count    50000.000000\n",
       "mean       122.378980\n",
       "std         92.209613\n",
       "min          3.000000\n",
       "25%         66.000000\n",
       "50%         91.000000\n",
       "75%        149.000000\n",
       "max       1474.000000\n",
       "dtype: float64"
      ]
     },
     "execution_count": 11,
     "metadata": {},
     "output_type": "execute_result"
    }
   ],
   "source": [
    "pd.Series(review_len).describe()"
   ]
  },
  {
   "cell_type": "code",
   "execution_count": 12,
   "id": "9888f9d9",
   "metadata": {
    "ExecuteTime": {
     "end_time": "2021-05-28T05:47:31.296856Z",
     "start_time": "2021-05-28T05:47:31.268887Z"
    }
   },
   "outputs": [
    {
     "name": "stdout",
     "output_type": "stream",
     "text": [
      "2892\n"
     ]
    }
   ],
   "source": [
    "count = 0\n",
    "for i in review_len:\n",
    "    if i >= 300: \n",
    "        count = count + 1\n",
    "print(count)"
   ]
  },
  {
   "cell_type": "markdown",
   "id": "476e7f6a",
   "metadata": {},
   "source": [
    "## LSTM need all encoded sentences have same length, so i if a sentence has its length smaller than pre-defined length, we insert 0 into start of sentence"
   ]
  },
  {
   "cell_type": "code",
   "execution_count": 13,
   "id": "a60f3b73",
   "metadata": {
    "ExecuteTime": {
     "end_time": "2021-05-28T05:47:34.111878Z",
     "start_time": "2021-05-28T05:47:31.300854Z"
    }
   },
   "outputs": [],
   "source": [
    "def pad_features(reviews_int, seq_length):\n",
    "    features = np.zeros((len(reviews_int), seq_length), dtype = int)\n",
    "    \n",
    "    for i, review in enumerate(reviews_int):\n",
    "        review_len = len(review)\n",
    "        if review_len <= seq_length:\n",
    "            zeroes = list(np.zeros(seq_length-review_len))\n",
    "            new = zeroes+review\n",
    "        elif review_len > seq_length:\n",
    "            new = review[0:seq_length]\n",
    "        features[i,:] = np.array(new)\n",
    "    \n",
    "    return features\n",
    "pad_encoded_review = pad_features(encoded_review, 300)"
   ]
  },
  {
   "cell_type": "code",
   "execution_count": 14,
   "id": "69c96c77",
   "metadata": {
    "ExecuteTime": {
     "end_time": "2021-05-28T05:47:34.157853Z",
     "start_time": "2021-05-28T05:47:34.114889Z"
    }
   },
   "outputs": [],
   "source": [
    "target = []\n",
    "for i in df.sentiment:\n",
    "    if i == 'positive':\n",
    "        target.append(1)\n",
    "    else:\n",
    "        target.append(0)"
   ]
  },
  {
   "cell_type": "code",
   "execution_count": 15,
   "id": "5f14e388",
   "metadata": {
    "ExecuteTime": {
     "end_time": "2021-05-28T05:47:34.189851Z",
     "start_time": "2021-05-28T05:47:34.160856Z"
    }
   },
   "outputs": [],
   "source": [
    "X = pad_encoded_review\n",
    "y = np.array(target)"
   ]
  },
  {
   "cell_type": "markdown",
   "id": "491676d7",
   "metadata": {},
   "source": [
    "## Train test split and batch loader"
   ]
  },
  {
   "cell_type": "code",
   "execution_count": 16,
   "id": "114c95d2",
   "metadata": {
    "ExecuteTime": {
     "end_time": "2021-05-28T05:47:34.269856Z",
     "start_time": "2021-05-28T05:47:34.194893Z"
    }
   },
   "outputs": [],
   "source": [
    "rate = 0.1/0.9\n",
    "from sklearn.model_selection import train_test_split\n",
    "X_train, X_test, y_train, y_test = train_test_split(X, y, test_size=0.1, random_state=1)\n",
    "X_train, X_val, y_train, y_val = train_test_split(X_train, y_train, test_size=rate, random_state=1) # 0.25 x 0.8 = 0.2"
   ]
  },
  {
   "cell_type": "code",
   "execution_count": 17,
   "id": "43679682",
   "metadata": {
    "ExecuteTime": {
     "end_time": "2021-05-28T05:47:34.285856Z",
     "start_time": "2021-05-28T05:47:34.272855Z"
    }
   },
   "outputs": [],
   "source": [
    "from torch.utils.data import DataLoader, TensorDataset\n",
    "train_data = TensorDataset(torch.from_numpy(X_train), torch.from_numpy(y_train))\n",
    "valid_data = TensorDataset(torch.from_numpy(X_val), torch.from_numpy(y_val))\n",
    "test_data = TensorDataset(torch.from_numpy(X_test), torch.from_numpy(y_test))"
   ]
  },
  {
   "cell_type": "code",
   "execution_count": 18,
   "id": "04b58fde",
   "metadata": {
    "ExecuteTime": {
     "end_time": "2021-05-28T05:47:34.315856Z",
     "start_time": "2021-05-28T05:47:34.288855Z"
    }
   },
   "outputs": [],
   "source": [
    "# dataloaders\n",
    "batch_size = 20\n",
    "# make sure to SHUFFLE your data\n",
    "train_loader = DataLoader(train_data, shuffle=True, batch_size=batch_size)\n",
    "valid_loader = DataLoader(valid_data, shuffle=True, batch_size=batch_size)\n",
    "test_loader = DataLoader(test_data, shuffle=True, batch_size=batch_size)"
   ]
  },
  {
   "cell_type": "code",
   "execution_count": 19,
   "id": "59c73388",
   "metadata": {
    "ExecuteTime": {
     "end_time": "2021-05-28T05:47:34.347856Z",
     "start_time": "2021-05-28T05:47:34.318861Z"
    }
   },
   "outputs": [
    {
     "name": "stdout",
     "output_type": "stream",
     "text": [
      "Sample input size:  torch.Size([20, 300])\n",
      "Sample input: \n",
      " tensor([[    0,     0,     0,  ...,  1157,   751,  2092],\n",
      "        [    0,     0,     0,  ...,   694,  3041,   933],\n",
      "        [    0,     0,     0,  ...,  8879, 34488,  3785],\n",
      "        ...,\n",
      "        [    0,     0,     0,  ...,  1271,   922,  1736],\n",
      "        [    0,     0,     0,  ...,   643, 20950,  2977],\n",
      "        [    0,     0,     0,  ...,   285,  1047,  3713]], dtype=torch.int32)\n",
      "\n",
      "Sample label size:  torch.Size([20])\n",
      "Sample label: \n",
      " tensor([1, 1, 0, 0, 0, 1, 0, 1, 0, 0, 0, 1, 1, 1, 0, 0, 0, 1, 1, 1],\n",
      "       dtype=torch.int32)\n"
     ]
    }
   ],
   "source": [
    "dataiter = iter(train_loader)\n",
    "sample_x, sample_y = dataiter.next()\n",
    "print('Sample input size: ', sample_x.size()) # batch_size, seq_length\n",
    "print('Sample input: \\n', sample_x)\n",
    "print()\n",
    "print('Sample label size: ', sample_y.size()) # batch_size\n",
    "print('Sample label: \\n', sample_y)"
   ]
  },
  {
   "cell_type": "markdown",
   "id": "91cd1b84",
   "metadata": {},
   "source": [
    "# Create LSTM Model"
   ]
  },
  {
   "cell_type": "code",
   "execution_count": 1,
   "id": "0e2e1221",
   "metadata": {
    "ExecuteTime": {
     "end_time": "2021-05-30T07:18:58.359743Z",
     "start_time": "2021-05-30T07:18:57.342717Z"
    }
   },
   "outputs": [],
   "source": [
    "import torch.nn as nn\n",
    "class LSTM(nn.Module):\n",
    "    def __init__(self, input_size, output_size, num_layers, embedding_dim, hidden_dim, p_drop = 0.5):\n",
    "        super(LSTM, self).__init__()\n",
    "        self.n_layers = num_layers\n",
    "        self.input_size = input_size\n",
    "        self.output_size = output_size\n",
    "        self.hidden_dim = hidden_dim\n",
    "        \n",
    "        self.embedding = nn.Embedding(input_size, embedding_dim)\n",
    "        self.lstm = nn.LSTM(embedding_dim, hidden_dim, num_layers, dropout = p_drop, batch_first=True)\n",
    "        \n",
    "        self.dropout = nn.Dropout(0.5)\n",
    "        self.fc1 = nn.Linear(hidden_dim, 64)\n",
    "        self.fc2 = nn.Linear(64, output_size)\n",
    "        self.sigmoid = nn.Sigmoid()\n",
    "    \n",
    "    def init_hidden(self, batch_size):\n",
    "        weight = next(self.parameters()).data\n",
    "        if (torch.cuda.is_available()):\n",
    "            hidden = (weight.new(self.n_layers, batch_size, self.hidden_dim).zero_().cuda(),\n",
    "                  weight.new(self.n_layers, batch_size, self.hidden_dim).zero_().cuda())\n",
    "        else:\n",
    "            hidden = (weight.new(self.n_layers, batch_size, self.hidden_dim).zero_(),\n",
    "                      weight.new(self.n_layers, batch_size, self.hidden_dim).zero_())\n",
    "        \n",
    "        return hidden\n",
    "        \n",
    "    def forward(self, x, hidden):\n",
    "        # x size: [batch_size, seq_len]\n",
    "        batch_size=x.size()\n",
    "        out = self.embedding(x)\n",
    "        # out: [batch_size, seq_len, embedding_dim]\n",
    "        out, hidden = self.lstm(out, hidden)\n",
    "        # out: [batch_size, seq_len, hidden_dim]\n",
    "        out=self.dropout(out)\n",
    "        out=self.fc1(out)\n",
    "        out=self.dropout(out)\n",
    "        out=self.fc2(out)\n",
    "        out=self.dropout(out)\n",
    "        sig_out=self.sigmoid(out)\n",
    "        \n",
    "        sig_out=sig_out.view(batch_size, -1)\n",
    "        sig_out=sig_out[:, -1]\n",
    "        return sig_out, hidden\n",
    "        "
   ]
  },
  {
   "cell_type": "code",
   "execution_count": 6,
   "id": "a36ca56d",
   "metadata": {
    "ExecuteTime": {
     "end_time": "2021-05-31T17:48:31.891584Z",
     "start_time": "2021-05-31T17:48:31.874601Z"
    }
   },
   "outputs": [],
   "source": [
    "input_size = len(word2index) + 1\n",
    "output_size = 1\n",
    "num_layer = 2\n",
    "embedding_dim = 400\n",
    "hidden_layer =256\n",
    "\n",
    "if(torch.cuda.is_available()):\n",
    "    lstm_model = LSTM(input_size, output_size, num_layer, embedding_dim, hidden_layer).cuda()\n",
    "else:\n",
    "    lstm_model = LSTM(input_size, output_size, num_layer, embedding_dim, hidden_layer)\n"
   ]
  },
  {
   "cell_type": "code",
   "execution_count": 23,
   "id": "f52edb84",
   "metadata": {
    "ExecuteTime": {
     "end_time": "2021-05-28T05:47:38.697861Z",
     "start_time": "2021-05-28T05:47:38.669856Z"
    }
   },
   "outputs": [
    {
     "data": {
      "text/plain": [
       "LSTM(\n",
       "  (embedding): Embedding(93270, 400)\n",
       "  (lstm): LSTM(400, 256, num_layers=2, batch_first=True, dropout=0.5)\n",
       "  (dropout): Dropout(p=0.5, inplace=False)\n",
       "  (fc1): Linear(in_features=256, out_features=64, bias=True)\n",
       "  (fc2): Linear(in_features=64, out_features=1, bias=True)\n",
       "  (sigmoid): Sigmoid()\n",
       ")"
      ]
     },
     "execution_count": 23,
     "metadata": {},
     "output_type": "execute_result"
    }
   ],
   "source": [
    "lr=0.001\n",
    "epochs = 3\n",
    "criterion = nn.BCELoss()\n",
    "optimizer = torch.optim.Adam(lstm_model.parameters(), lr=lr)\n",
    "clip=5\n",
    "print_every = 100\n",
    "lstm_model.train()"
   ]
  },
  {
   "cell_type": "code",
   "execution_count": 24,
   "id": "6c4fb96f",
   "metadata": {
    "ExecuteTime": {
     "end_time": "2021-05-28T06:14:39.760266Z",
     "start_time": "2021-05-28T05:47:38.700861Z"
    }
   },
   "outputs": [
    {
     "name": "stdout",
     "output_type": "stream",
     "text": [
      "Epoch: 1/3... Step: 100... Loss: 0.682755... Val Loss: 0.654349\n",
      "Epoch: 1/3... Step: 200... Loss: 0.729988... Val Loss: 0.616379\n",
      "Epoch: 1/3... Step: 300... Loss: 0.670362... Val Loss: 0.614777\n",
      "Epoch: 1/3... Step: 400... Loss: 0.609532... Val Loss: 0.597646\n",
      "Epoch: 1/3... Step: 500... Loss: 0.678148... Val Loss: 0.613605\n",
      "Epoch: 1/3... Step: 600... Loss: 0.726528... Val Loss: 0.615318\n",
      "Epoch: 1/3... Step: 700... Loss: 0.521336... Val Loss: 0.580223\n",
      "Epoch: 1/3... Step: 800... Loss: 0.699753... Val Loss: 0.545811\n",
      "Epoch: 1/3... Step: 900... Loss: 0.687463... Val Loss: 0.549272\n",
      "Epoch: 1/3... Step: 1000... Loss: 0.697662... Val Loss: 0.688805\n",
      "Epoch: 1/3... Step: 1100... Loss: 0.733532... Val Loss: 0.584191\n",
      "Epoch: 1/3... Step: 1200... Loss: 0.588326... Val Loss: 0.557263\n",
      "Epoch: 1/3... Step: 1300... Loss: 0.573378... Val Loss: 0.528938\n",
      "Epoch: 1/3... Step: 1400... Loss: 0.708354... Val Loss: 0.478049\n",
      "Epoch: 1/3... Step: 1500... Loss: 0.561122... Val Loss: 0.498979\n",
      "Epoch: 1/3... Step: 1600... Loss: 0.699885... Val Loss: 0.483992\n",
      "Epoch: 1/3... Step: 1700... Loss: 0.483621... Val Loss: 0.454688\n",
      "Epoch: 1/3... Step: 1800... Loss: 0.757023... Val Loss: 0.457993\n",
      "Epoch: 1/3... Step: 1900... Loss: 0.580513... Val Loss: 0.459470\n",
      "Epoch: 1/3... Step: 2000... Loss: 0.538717... Val Loss: 0.469114\n",
      "Epoch: 2/3... Step: 2100... Loss: 0.516827... Val Loss: 0.453188\n",
      "Epoch: 2/3... Step: 2200... Loss: 0.530828... Val Loss: 0.408587\n",
      "Epoch: 2/3... Step: 2300... Loss: 0.504487... Val Loss: 0.414776\n",
      "Epoch: 2/3... Step: 2400... Loss: 0.598085... Val Loss: 0.377169\n",
      "Epoch: 2/3... Step: 2500... Loss: 0.441532... Val Loss: 0.386892\n",
      "Epoch: 2/3... Step: 2600... Loss: 0.720540... Val Loss: 0.379388\n",
      "Epoch: 2/3... Step: 2700... Loss: 0.618751... Val Loss: 0.416901\n",
      "Epoch: 2/3... Step: 2800... Loss: 0.456090... Val Loss: 0.454863\n",
      "Epoch: 2/3... Step: 2900... Loss: 0.418830... Val Loss: 0.379634\n",
      "Epoch: 2/3... Step: 3000... Loss: 0.511588... Val Loss: 0.391049\n",
      "Epoch: 2/3... Step: 3100... Loss: 0.508521... Val Loss: 0.389590\n",
      "Epoch: 2/3... Step: 3200... Loss: 0.589658... Val Loss: 0.391562\n",
      "Epoch: 2/3... Step: 3300... Loss: 0.475785... Val Loss: 0.399396\n",
      "Epoch: 2/3... Step: 3400... Loss: 0.545847... Val Loss: 0.358846\n",
      "Epoch: 2/3... Step: 3500... Loss: 0.298682... Val Loss: 0.350951\n",
      "Epoch: 2/3... Step: 3600... Loss: 0.471057... Val Loss: 0.393463\n",
      "Epoch: 2/3... Step: 3700... Loss: 0.433356... Val Loss: 0.346306\n",
      "Epoch: 2/3... Step: 3800... Loss: 0.437675... Val Loss: 0.385688\n",
      "Epoch: 2/3... Step: 3900... Loss: 0.553895... Val Loss: 0.368371\n",
      "Epoch: 2/3... Step: 4000... Loss: 0.515271... Val Loss: 0.360614\n",
      "Epoch: 3/3... Step: 4100... Loss: 0.517918... Val Loss: 0.340771\n",
      "Epoch: 3/3... Step: 4200... Loss: 0.328914... Val Loss: 0.328064\n",
      "Epoch: 3/3... Step: 4300... Loss: 0.531308... Val Loss: 0.345776\n",
      "Epoch: 3/3... Step: 4400... Loss: 0.530162... Val Loss: 0.384411\n",
      "Epoch: 3/3... Step: 4500... Loss: 0.455939... Val Loss: 0.351895\n",
      "Epoch: 3/3... Step: 4600... Loss: 0.462078... Val Loss: 0.372345\n",
      "Epoch: 3/3... Step: 4700... Loss: 0.399777... Val Loss: 0.332098\n",
      "Epoch: 3/3... Step: 4800... Loss: 0.568291... Val Loss: 0.341872\n",
      "Epoch: 3/3... Step: 4900... Loss: 0.682453... Val Loss: 0.357538\n",
      "Epoch: 3/3... Step: 5000... Loss: 0.441789... Val Loss: 0.355507\n",
      "Epoch: 3/3... Step: 5100... Loss: 0.365730... Val Loss: 0.352191\n",
      "Epoch: 3/3... Step: 5200... Loss: 0.482257... Val Loss: 0.365837\n",
      "Epoch: 3/3... Step: 5300... Loss: 0.503349... Val Loss: 0.332369\n",
      "Epoch: 3/3... Step: 5400... Loss: 0.589085... Val Loss: 0.356578\n",
      "Epoch: 3/3... Step: 5500... Loss: 0.556130... Val Loss: 0.331122\n",
      "Epoch: 3/3... Step: 5600... Loss: 0.416404... Val Loss: 0.342581\n",
      "Epoch: 3/3... Step: 5700... Loss: 0.454596... Val Loss: 0.353532\n",
      "Epoch: 3/3... Step: 5800... Loss: 0.401147... Val Loss: 0.348443\n",
      "Epoch: 3/3... Step: 5900... Loss: 0.600651... Val Loss: 0.331208\n",
      "Epoch: 3/3... Step: 6000... Loss: 0.626458... Val Loss: 0.337924\n"
     ]
    }
   ],
   "source": [
    "counter = 0\n",
    "for epoch in range(epochs):\n",
    "    hidden = lstm_model.init_hidden(batch_size)\n",
    "    \n",
    "    for inputs, labels in train_loader:\n",
    "        counter += 1\n",
    "        if(torch.cuda.is_available()):\n",
    "            inputs=inputs.cuda()\n",
    "            labels=labels.cuda()\n",
    "        \n",
    "        hidden = tuple([each.data for each in hidden])\n",
    "        lstm_model.zero_grad()\n",
    "        output, hidden = lstm_model(inputs, hidden)\n",
    "        \n",
    "        loss = criterion(output, labels.float())\n",
    "        loss.backward()\n",
    "        \n",
    "        # `clip_grad_norm` helps prevent the exploding gradient problem in RNNs / LSTMs.\n",
    "        nn.utils.clip_grad_norm_(lstm_model.parameters(), clip)\n",
    "        optimizer.step()\n",
    "        \n",
    "        if counter % print_every == 0:\n",
    "            # Get validation loss\n",
    "            val_h = lstm_model.init_hidden(batch_size)\n",
    "            val_losses = []\n",
    "            lstm_model.eval()\n",
    "            for inputs, labels in valid_loader:\n",
    "\n",
    "                # Creating new variables for the hidden state, otherwise\n",
    "                # we'd backprop through the entire training history\n",
    "                val_h = tuple([each.data for each in val_h])\n",
    "\n",
    "                if(torch.cuda.is_available()):\n",
    "                    inputs, labels = inputs.cuda(), labels.cuda()\n",
    "\n",
    "                output, val_h = lstm_model(inputs, val_h)\n",
    "                val_loss = criterion(output.squeeze(), labels.float())\n",
    "\n",
    "                val_losses.append(val_loss.item())\n",
    "\n",
    "            lstm_model.train()\n",
    "            print(\"Epoch: {}/{}...\".format(epoch+1, epochs),\n",
    "                  \"Step: {}...\".format(counter),\n",
    "                  \"Loss: {:.6f}...\".format(loss.item()),\n",
    "                  \"Val Loss: {:.6f}\".format(np.mean(val_losses)))"
   ]
  },
  {
   "cell_type": "markdown",
   "id": "3ace30bc",
   "metadata": {},
   "source": [
    "## Save model after trainning"
   ]
  },
  {
   "cell_type": "code",
   "execution_count": 37,
   "id": "5590a277",
   "metadata": {
    "ExecuteTime": {
     "end_time": "2021-05-28T08:01:12.716659Z",
     "start_time": "2021-05-28T08:01:11.683629Z"
    }
   },
   "outputs": [],
   "source": [
    "PATH = \"lstm_state_dict_model.pt\"\n",
    "torch.save(lstm_model.state_dict(), PATH)"
   ]
  },
  {
   "cell_type": "code",
   "execution_count": 7,
   "id": "1207cf5b",
   "metadata": {
    "ExecuteTime": {
     "end_time": "2021-05-31T17:48:50.085597Z",
     "start_time": "2021-05-31T17:48:50.067581Z"
    }
   },
   "outputs": [],
   "source": [
    "if(torch.cuda.is_available()):\n",
    "    load_model = LSTM(input_size, output_size, num_layer, embedding_dim, hidden_layer)\n",
    "else:\n",
    "    load_model = LSTM(input_size, output_size, num_layer, embedding_dim, hidden_layer)"
   ]
  },
  {
   "cell_type": "code",
   "execution_count": 39,
   "id": "480dee62",
   "metadata": {
    "ExecuteTime": {
     "end_time": "2021-05-28T08:01:20.547660Z",
     "start_time": "2021-05-28T08:01:20.314660Z"
    }
   },
   "outputs": [
    {
     "data": {
      "text/plain": [
       "LSTM(\n",
       "  (embedding): Embedding(93270, 400)\n",
       "  (lstm): LSTM(400, 256, num_layers=2, batch_first=True, dropout=0.5)\n",
       "  (dropout): Dropout(p=0.5, inplace=False)\n",
       "  (fc1): Linear(in_features=256, out_features=64, bias=True)\n",
       "  (fc2): Linear(in_features=64, out_features=1, bias=True)\n",
       "  (sigmoid): Sigmoid()\n",
       ")"
      ]
     },
     "execution_count": 39,
     "metadata": {},
     "output_type": "execute_result"
    }
   ],
   "source": [
    "load_model.load_state_dict(torch.load(PATH))\n",
    "load_model.eval()"
   ]
  },
  {
   "cell_type": "code",
   "execution_count": 40,
   "id": "3a7352a2",
   "metadata": {
    "ExecuteTime": {
     "end_time": "2021-05-28T08:01:32.916629Z",
     "start_time": "2021-05-28T08:01:31.938632Z"
    }
   },
   "outputs": [],
   "source": [
    "ENTIRE_PATH = \"entire_model.pt\"\n",
    "torch.save(lstm_model, ENTIRE_PATH)"
   ]
  },
  {
   "cell_type": "markdown",
   "id": "0072e162",
   "metadata": {},
   "source": [
    "## Test model"
   ]
  },
  {
   "cell_type": "code",
   "execution_count": 46,
   "id": "d70fdb85",
   "metadata": {
    "ExecuteTime": {
     "end_time": "2021-05-28T08:22:07.895236Z",
     "start_time": "2021-05-28T08:21:58.908215Z"
    }
   },
   "outputs": [
    {
     "name": "stdout",
     "output_type": "stream",
     "text": [
      "Test loss: 0.323\n",
      "Test accuracy: 0.878\n"
     ]
    }
   ],
   "source": [
    "test_losses = [] # track loss\n",
    "num_correct = 0\n",
    "# init hidden state\n",
    "hidden = lstm_model.init_hidden(batch_size)\n",
    "\n",
    "lstm_model.eval()\n",
    "# iterate over test data\n",
    "for inputs, labels in test_loader:\n",
    "\n",
    "    # Creating new variables for the hidden state, otherwise\n",
    "    # we'd backprop through the entire training history\n",
    "    hidden = tuple([each.data for each in hidden])\n",
    "\n",
    "    if(torch.cuda.is_available()):\n",
    "        inputs, labels = inputs.cuda(), labels.cuda()\n",
    "    \n",
    "    # get predicted outputs\n",
    "    output, h = lstm_model(inputs, hidden)\n",
    "    \n",
    "    # calculate loss\n",
    "    test_loss = criterion(output, labels.float())\n",
    "    test_losses.append(test_loss.item())\n",
    "    \n",
    "    # convert output probabilities to predicted class (0 or 1)\n",
    "    pred = torch.round(output.squeeze())  # rounds to the nearest integer\n",
    "    \n",
    "    # compare predictions to true label\n",
    "    correct_tensor = pred.eq(labels.float().view_as(pred))\n",
    "    correct = np.squeeze(correct_tensor.numpy()) if not torch.cuda.is_available() else np.squeeze(correct_tensor.cpu().numpy())\n",
    "    num_correct += np.sum(correct)\n",
    "\n",
    "\n",
    "# -- stats! -- ##\n",
    "# avg test loss\n",
    "print(\"Test loss: {:.3f}\".format(np.mean(test_losses)))\n",
    "\n",
    "# accuracy over all test data\n",
    "test_acc = num_correct/len(test_loader.dataset)\n",
    "print(\"Test accuracy: {:.3f}\".format(test_acc))"
   ]
  },
  {
   "cell_type": "markdown",
   "id": "c99922e0",
   "metadata": {},
   "source": [
    "## Test when put unseen data into model"
   ]
  },
  {
   "cell_type": "code",
   "execution_count": 170,
   "id": "6f70cd87",
   "metadata": {
    "ExecuteTime": {
     "end_time": "2021-05-28T09:38:56.703240Z",
     "start_time": "2021-05-28T09:38:56.684211Z"
    }
   },
   "outputs": [],
   "source": [
    "\n",
    "def remove_stopword(text):\n",
    "    text = [word for word in text if word not in new_stopwords]\n",
    "    return text\n",
    "\n",
    "def pad_features(reviews_int, seq_length):\n",
    "    features = np.zeros((len(reviews_int), seq_length), dtype = int)\n",
    "\n",
    "    for i, review in enumerate(reviews_int):\n",
    "        review_len = len(review)\n",
    "        if review_len <= seq_length:\n",
    "            zeroes = list(np.zeros(seq_length-review_len))\n",
    "            new = zeroes+review\n",
    "        elif review_len > seq_length:\n",
    "            new = review[0:seq_length]\n",
    "        features[i,:] = np.array(new)\n",
    "\n",
    "    return features\n",
    "\n",
    "def encode_sent(sent):\n",
    "    sent = [word2index.token2id[word] for word in sent if word in word2index.token2id.keys()]\n",
    "    return sent\n",
    "\n",
    "def preprocessing_input(sents):\n",
    "    sents = list(map(remove_html_tag, sents))\n",
    "    sents = list(map(remove_accent_char, sents))\n",
    "    sents = list(map(expand_contractions, sents))\n",
    "    sents = list(map(remove_special_characters, sents))\n",
    "    sents = tokenizer_and_lemmatizer(sents)\n",
    "    sents = list(map(tokenizer, sents))\n",
    "    sents = list(map(remove_stopword, sents))\n",
    "    sents = list(map(encode_sent, sents))\n",
    "    sents = pad_features(sents, 300)\n",
    "    return sents\n",
    "\n",
    "def input_prepare(sents): \n",
    "    input = preprocessing_input(sents)\n",
    "    input = np.array(input)\n",
    "    input = torch.from_numpy(input)\n",
    "    if torch.cuda.is_available():\n",
    "        input = input.cuda()\n",
    "    h = lstm_model.init_hidden(input.size(0))\n",
    "    return input, h"
   ]
  },
  {
   "cell_type": "code",
   "execution_count": 181,
   "id": "0b6613c2",
   "metadata": {
    "ExecuteTime": {
     "end_time": "2021-05-28T09:43:35.225201Z",
     "start_time": "2021-05-28T09:43:35.204251Z"
    }
   },
   "outputs": [],
   "source": [
    "text_input = [\"it's a bad movie out of the time\",\"you're a murder, but you still have morality\"]\n",
    "def make_predict(input, h):\n",
    "    output, h = lstm_model(input, h)\n",
    "    pred = torch.round(output) \n",
    "    for ind, prediction in enumerate(pred):\n",
    "        print(text_input[ind])\n",
    "        if(prediction == 1):\n",
    "            print(\"Positive review detected!\")\n",
    "        else:\n",
    "            print(\"Negative review detected.\")"
   ]
  },
  {
   "cell_type": "code",
   "execution_count": 182,
   "id": "97bccf51",
   "metadata": {
    "ExecuteTime": {
     "end_time": "2021-05-28T09:43:35.742223Z",
     "start_time": "2021-05-28T09:43:35.699236Z"
    }
   },
   "outputs": [
    {
     "name": "stdout",
     "output_type": "stream",
     "text": [
      "0\n",
      "1\n",
      "it's a bad movie out of the time\n",
      "Negative review detected.\n",
      "you're a good guy, but you're aslo a fuck boy\n",
      "Positive review detected!\n"
     ]
    }
   ],
   "source": [
    "input, h = input_prepare(text_input)\n",
    "make_predict(input, h)"
   ]
  },
  {
   "cell_type": "code",
   "execution_count": null,
   "id": "eaac47aa",
   "metadata": {},
   "outputs": [],
   "source": []
  }
 ],
 "metadata": {
  "kernelspec": {
   "display_name": "Pytorch (conda)",
   "language": "python",
   "name": "pytorch"
  },
  "language_info": {
   "codemirror_mode": {
    "name": "ipython",
    "version": 3
   },
   "file_extension": ".py",
   "mimetype": "text/x-python",
   "name": "python",
   "nbconvert_exporter": "python",
   "pygments_lexer": "ipython3",
   "version": "3.7.10"
  }
 },
 "nbformat": 4,
 "nbformat_minor": 5
}
